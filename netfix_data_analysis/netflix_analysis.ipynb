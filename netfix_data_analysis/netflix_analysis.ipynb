{
 "cells": [
  {
   "cell_type": "code",
   "execution_count": 1,
   "id": "1bd28191",
   "metadata": {},
   "outputs": [],
   "source": [
    "import pandas as pd \n",
    "import matplotlib.pyplot as plt \n",
    "import seaborn as sns "
   ]
  },
  {
   "cell_type": "code",
   "execution_count": 2,
   "id": "dab0aff8",
   "metadata": {},
   "outputs": [],
   "source": [
    "netflix_df = pd.read_csv(\"netflix.csv\")"
   ]
  },
  {
   "cell_type": "code",
   "execution_count": 36,
   "id": "d3e4d18f",
   "metadata": {},
   "outputs": [
    {
     "data": {
      "text/html": [
       "<div>\n",
       "<style scoped>\n",
       "    .dataframe tbody tr th:only-of-type {\n",
       "        vertical-align: middle;\n",
       "    }\n",
       "\n",
       "    .dataframe tbody tr th {\n",
       "        vertical-align: top;\n",
       "    }\n",
       "\n",
       "    .dataframe thead th {\n",
       "        text-align: right;\n",
       "    }\n",
       "</style>\n",
       "<table border=\"1\" class=\"dataframe\">\n",
       "  <thead>\n",
       "    <tr style=\"text-align: right;\">\n",
       "      <th></th>\n",
       "      <th>title</th>\n",
       "      <th>genre</th>\n",
       "      <th>language</th>\n",
       "      <th>imdb_score</th>\n",
       "      <th>premiere</th>\n",
       "      <th>runtime</th>\n",
       "      <th>year</th>\n",
       "    </tr>\n",
       "  </thead>\n",
       "  <tbody>\n",
       "    <tr>\n",
       "      <th>0</th>\n",
       "      <td>Notes for My Son</td>\n",
       "      <td>Drama</td>\n",
       "      <td>Spanish</td>\n",
       "      <td>6.3</td>\n",
       "      <td>11/24/2020</td>\n",
       "      <td>83</td>\n",
       "      <td>2020</td>\n",
       "    </tr>\n",
       "    <tr>\n",
       "      <th>1</th>\n",
       "      <td>To Each, Her Own</td>\n",
       "      <td>Romantic comedy</td>\n",
       "      <td>French</td>\n",
       "      <td>5.3</td>\n",
       "      <td>6/24/2018</td>\n",
       "      <td>95</td>\n",
       "      <td>2018</td>\n",
       "    </tr>\n",
       "    <tr>\n",
       "      <th>2</th>\n",
       "      <td>The Lovebirds</td>\n",
       "      <td>Romantic comedy</td>\n",
       "      <td>English</td>\n",
       "      <td>6.1</td>\n",
       "      <td>5/22/2020</td>\n",
       "      <td>87</td>\n",
       "      <td>2020</td>\n",
       "    </tr>\n",
       "    <tr>\n",
       "      <th>3</th>\n",
       "      <td>The Perfection</td>\n",
       "      <td>Horror-thriller</td>\n",
       "      <td>English</td>\n",
       "      <td>6.1</td>\n",
       "      <td>5/24/2019</td>\n",
       "      <td>90</td>\n",
       "      <td>2019</td>\n",
       "    </tr>\n",
       "    <tr>\n",
       "      <th>4</th>\n",
       "      <td>Happy Anniversary</td>\n",
       "      <td>Romantic comedy</td>\n",
       "      <td>English</td>\n",
       "      <td>5.8</td>\n",
       "      <td>3/30/2018</td>\n",
       "      <td>78</td>\n",
       "      <td>2018</td>\n",
       "    </tr>\n",
       "  </tbody>\n",
       "</table>\n",
       "</div>"
      ],
      "text/plain": [
       "               title            genre language  imdb_score    premiere  \\\n",
       "0   Notes for My Son            Drama  Spanish         6.3  11/24/2020   \n",
       "1   To Each, Her Own  Romantic comedy   French         5.3   6/24/2018   \n",
       "2      The Lovebirds  Romantic comedy  English         6.1   5/22/2020   \n",
       "3     The Perfection  Horror-thriller  English         6.1   5/24/2019   \n",
       "4  Happy Anniversary  Romantic comedy  English         5.8   3/30/2018   \n",
       "\n",
       "   runtime  year  \n",
       "0       83  2020  \n",
       "1       95  2018  \n",
       "2       87  2020  \n",
       "3       90  2019  \n",
       "4       78  2018  "
      ]
     },
     "execution_count": 36,
     "metadata": {},
     "output_type": "execute_result"
    }
   ],
   "source": [
    "netflix_df.head(5)"
   ]
  },
  {
   "cell_type": "code",
   "execution_count": null,
   "id": "ba0c9c7b",
   "metadata": {},
   "outputs": [],
   "source": [
    "# 1. Indexing with loc (Access by Labels)"
   ]
  },
  {
   "cell_type": "code",
   "execution_count": null,
   "id": "68b705ac",
   "metadata": {},
   "outputs": [],
   "source": [
    "# Select the row where the title is \"Notes for My Son\""
   ]
  },
  {
   "cell_type": "code",
   "execution_count": 11,
   "id": "0e1ffafd",
   "metadata": {},
   "outputs": [
    {
     "data": {
      "text/html": [
       "<div>\n",
       "<style scoped>\n",
       "    .dataframe tbody tr th:only-of-type {\n",
       "        vertical-align: middle;\n",
       "    }\n",
       "\n",
       "    .dataframe tbody tr th {\n",
       "        vertical-align: top;\n",
       "    }\n",
       "\n",
       "    .dataframe thead th {\n",
       "        text-align: right;\n",
       "    }\n",
       "</style>\n",
       "<table border=\"1\" class=\"dataframe\">\n",
       "  <thead>\n",
       "    <tr style=\"text-align: right;\">\n",
       "      <th></th>\n",
       "      <th>title</th>\n",
       "      <th>genre</th>\n",
       "      <th>language</th>\n",
       "      <th>imdb_score</th>\n",
       "      <th>premiere</th>\n",
       "      <th>runtime</th>\n",
       "      <th>year</th>\n",
       "    </tr>\n",
       "  </thead>\n",
       "  <tbody>\n",
       "    <tr>\n",
       "      <th>0</th>\n",
       "      <td>Notes for My Son</td>\n",
       "      <td>Drama</td>\n",
       "      <td>Spanish</td>\n",
       "      <td>6.3</td>\n",
       "      <td>11/24/2020</td>\n",
       "      <td>83</td>\n",
       "      <td>2020</td>\n",
       "    </tr>\n",
       "  </tbody>\n",
       "</table>\n",
       "</div>"
      ],
      "text/plain": [
       "              title  genre language  imdb_score    premiere  runtime  year\n",
       "0  Notes for My Son  Drama  Spanish         6.3  11/24/2020       83  2020"
      ]
     },
     "execution_count": 11,
     "metadata": {},
     "output_type": "execute_result"
    }
   ],
   "source": [
    "row = netflix_df.loc[netflix_df['title'] == \"Notes for My Son\"]\n",
    "row "
   ]
  },
  {
   "cell_type": "code",
   "execution_count": null,
   "id": "4702d2c4",
   "metadata": {},
   "outputs": [],
   "source": [
    "# Select the first 3 rows and columns 'title' and 'genre'"
   ]
  },
  {
   "cell_type": "code",
   "execution_count": 17,
   "id": "196e86fb",
   "metadata": {},
   "outputs": [
    {
     "data": {
      "text/html": [
       "<div>\n",
       "<style scoped>\n",
       "    .dataframe tbody tr th:only-of-type {\n",
       "        vertical-align: middle;\n",
       "    }\n",
       "\n",
       "    .dataframe tbody tr th {\n",
       "        vertical-align: top;\n",
       "    }\n",
       "\n",
       "    .dataframe thead th {\n",
       "        text-align: right;\n",
       "    }\n",
       "</style>\n",
       "<table border=\"1\" class=\"dataframe\">\n",
       "  <thead>\n",
       "    <tr style=\"text-align: right;\">\n",
       "      <th></th>\n",
       "      <th>title</th>\n",
       "      <th>genre</th>\n",
       "    </tr>\n",
       "  </thead>\n",
       "  <tbody>\n",
       "    <tr>\n",
       "      <th>0</th>\n",
       "      <td>Notes for My Son</td>\n",
       "      <td>Drama</td>\n",
       "    </tr>\n",
       "    <tr>\n",
       "      <th>1</th>\n",
       "      <td>To Each, Her Own</td>\n",
       "      <td>Romantic comedy</td>\n",
       "    </tr>\n",
       "    <tr>\n",
       "      <th>2</th>\n",
       "      <td>The Lovebirds</td>\n",
       "      <td>Romantic comedy</td>\n",
       "    </tr>\n",
       "  </tbody>\n",
       "</table>\n",
       "</div>"
      ],
      "text/plain": [
       "              title            genre\n",
       "0  Notes for My Son            Drama\n",
       "1  To Each, Her Own  Romantic comedy\n",
       "2     The Lovebirds  Romantic comedy"
      ]
     },
     "execution_count": 17,
     "metadata": {},
     "output_type": "execute_result"
    }
   ],
   "source": [
    "first_three = netflix_df.loc[:2, ['title','genre']]\n",
    "first_three"
   ]
  },
  {
   "cell_type": "code",
   "execution_count": 32,
   "id": "49f24f9c",
   "metadata": {},
   "outputs": [
    {
     "data": {
      "text/html": [
       "<div>\n",
       "<style scoped>\n",
       "    .dataframe tbody tr th:only-of-type {\n",
       "        vertical-align: middle;\n",
       "    }\n",
       "\n",
       "    .dataframe tbody tr th {\n",
       "        vertical-align: top;\n",
       "    }\n",
       "\n",
       "    .dataframe thead th {\n",
       "        text-align: right;\n",
       "    }\n",
       "</style>\n",
       "<table border=\"1\" class=\"dataframe\">\n",
       "  <thead>\n",
       "    <tr style=\"text-align: right;\">\n",
       "      <th></th>\n",
       "      <th>title</th>\n",
       "      <th>genre</th>\n",
       "      <th>language</th>\n",
       "      <th>imdb_score</th>\n",
       "      <th>premiere</th>\n",
       "      <th>runtime</th>\n",
       "      <th>year</th>\n",
       "    </tr>\n",
       "  </thead>\n",
       "  <tbody>\n",
       "    <tr>\n",
       "      <th>18</th>\n",
       "      <td>Pieces of a Woman</td>\n",
       "      <td>Drama</td>\n",
       "      <td>English</td>\n",
       "      <td>7.1</td>\n",
       "      <td>1/7/2021</td>\n",
       "      <td>126</td>\n",
       "      <td>2021</td>\n",
       "    </tr>\n",
       "    <tr>\n",
       "      <th>52</th>\n",
       "      <td>The Trial of the Chicago 7</td>\n",
       "      <td>Drama</td>\n",
       "      <td>English</td>\n",
       "      <td>7.8</td>\n",
       "      <td>10/16/2020</td>\n",
       "      <td>130</td>\n",
       "      <td>2020</td>\n",
       "    </tr>\n",
       "  </tbody>\n",
       "</table>\n",
       "</div>"
      ],
      "text/plain": [
       "                         title  genre language  imdb_score    premiere  \\\n",
       "18           Pieces of a Woman  Drama  English         7.1    1/7/2021   \n",
       "52  The Trial of the Chicago 7  Drama  English         7.8  10/16/2020   \n",
       "\n",
       "    runtime  year  \n",
       "18      126  2021  \n",
       "52      130  2020  "
      ]
     },
     "execution_count": 32,
     "metadata": {},
     "output_type": "execute_result"
    }
   ],
   "source": [
    "# Select rows where the genre is \"Drama\" and IMDb score > 7\n",
    "\n",
    "drama_high = netflix_df.loc[(netflix_df['genre'] == 'Drama') & (netflix_df['imdb_score'] > 7)]\n",
    "drama_high.head(2)"
   ]
  },
  {
   "cell_type": "code",
   "execution_count": null,
   "id": "c649ac13",
   "metadata": {},
   "outputs": [],
   "source": [
    "# 2. Indexing with iloc (Access by Integer Position)\n",
    "# Task 1: Select a specific row by position.\n"
   ]
  },
  {
   "cell_type": "code",
   "execution_count": 35,
   "id": "98079bfa",
   "metadata": {},
   "outputs": [
    {
     "data": {
      "text/plain": [
       "title         Happy Anniversary\n",
       "genre           Romantic comedy\n",
       "language                English\n",
       "imdb_score                  5.8\n",
       "premiere              3/30/2018\n",
       "runtime                      78\n",
       "year                       2018\n",
       "Name: 4, dtype: object"
      ]
     },
     "execution_count": 35,
     "metadata": {},
     "output_type": "execute_result"
    }
   ],
   "source": [
    "# Select the 5th row\n",
    "\n",
    "netflix_df.iloc[4]"
   ]
  },
  {
   "cell_type": "code",
   "execution_count": 39,
   "id": "2d5ccfc0",
   "metadata": {},
   "outputs": [
    {
     "data": {
      "text/html": [
       "<div>\n",
       "<style scoped>\n",
       "    .dataframe tbody tr th:only-of-type {\n",
       "        vertical-align: middle;\n",
       "    }\n",
       "\n",
       "    .dataframe tbody tr th {\n",
       "        vertical-align: top;\n",
       "    }\n",
       "\n",
       "    .dataframe thead th {\n",
       "        text-align: right;\n",
       "    }\n",
       "</style>\n",
       "<table border=\"1\" class=\"dataframe\">\n",
       "  <thead>\n",
       "    <tr style=\"text-align: right;\">\n",
       "      <th></th>\n",
       "      <th>title</th>\n",
       "      <th>genre</th>\n",
       "      <th>language</th>\n",
       "    </tr>\n",
       "  </thead>\n",
       "  <tbody>\n",
       "    <tr>\n",
       "      <th>0</th>\n",
       "      <td>Notes for My Son</td>\n",
       "      <td>Drama</td>\n",
       "      <td>Spanish</td>\n",
       "    </tr>\n",
       "    <tr>\n",
       "      <th>1</th>\n",
       "      <td>To Each, Her Own</td>\n",
       "      <td>Romantic comedy</td>\n",
       "      <td>French</td>\n",
       "    </tr>\n",
       "    <tr>\n",
       "      <th>2</th>\n",
       "      <td>The Lovebirds</td>\n",
       "      <td>Romantic comedy</td>\n",
       "      <td>English</td>\n",
       "    </tr>\n",
       "    <tr>\n",
       "      <th>3</th>\n",
       "      <td>The Perfection</td>\n",
       "      <td>Horror-thriller</td>\n",
       "      <td>English</td>\n",
       "    </tr>\n",
       "    <tr>\n",
       "      <th>4</th>\n",
       "      <td>Happy Anniversary</td>\n",
       "      <td>Romantic comedy</td>\n",
       "      <td>English</td>\n",
       "    </tr>\n",
       "  </tbody>\n",
       "</table>\n",
       "</div>"
      ],
      "text/plain": [
       "               title            genre language\n",
       "0   Notes for My Son            Drama  Spanish\n",
       "1   To Each, Her Own  Romantic comedy   French\n",
       "2      The Lovebirds  Romantic comedy  English\n",
       "3     The Perfection  Horror-thriller  English\n",
       "4  Happy Anniversary  Romantic comedy  English"
      ]
     },
     "execution_count": 39,
     "metadata": {},
     "output_type": "execute_result"
    }
   ],
   "source": [
    "# Select the first 5 rows and first 3 columns\n",
    "\n",
    "netflix_df.iloc[0:5, :3]"
   ]
  },
  {
   "cell_type": "code",
   "execution_count": 40,
   "id": "9e518ca1",
   "metadata": {},
   "outputs": [
    {
     "data": {
      "text/html": [
       "<div>\n",
       "<style scoped>\n",
       "    .dataframe tbody tr th:only-of-type {\n",
       "        vertical-align: middle;\n",
       "    }\n",
       "\n",
       "    .dataframe tbody tr th {\n",
       "        vertical-align: top;\n",
       "    }\n",
       "\n",
       "    .dataframe thead th {\n",
       "        text-align: right;\n",
       "    }\n",
       "</style>\n",
       "<table border=\"1\" class=\"dataframe\">\n",
       "  <thead>\n",
       "    <tr style=\"text-align: right;\">\n",
       "      <th></th>\n",
       "      <th>title</th>\n",
       "      <th>language</th>\n",
       "    </tr>\n",
       "  </thead>\n",
       "  <tbody>\n",
       "    <tr>\n",
       "      <th>1</th>\n",
       "      <td>To Each, Her Own</td>\n",
       "      <td>French</td>\n",
       "    </tr>\n",
       "    <tr>\n",
       "      <th>3</th>\n",
       "      <td>The Perfection</td>\n",
       "      <td>English</td>\n",
       "    </tr>\n",
       "    <tr>\n",
       "      <th>5</th>\n",
       "      <td>Why Did You Kill Me?</td>\n",
       "      <td>English</td>\n",
       "    </tr>\n",
       "  </tbody>\n",
       "</table>\n",
       "</div>"
      ],
      "text/plain": [
       "                  title language\n",
       "1      To Each, Her Own   French\n",
       "3        The Perfection  English\n",
       "5  Why Did You Kill Me?  English"
      ]
     },
     "execution_count": 40,
     "metadata": {},
     "output_type": "execute_result"
    }
   ],
   "source": [
    "# Select rows 1, 3, and 5, and columns 0 (title) and 2 (language)\n",
    "\n",
    "selected_rows = netflix_df.iloc[[1,3,5],[0,2]]\n",
    "selected_rows"
   ]
  },
  {
   "cell_type": "code",
   "execution_count": 47,
   "id": "fd471e54",
   "metadata": {},
   "outputs": [
    {
     "data": {
      "text/plain": [
       "title         583\n",
       "genre         583\n",
       "language      583\n",
       "imdb_score    583\n",
       "premiere      583\n",
       "runtime       583\n",
       "year          583\n",
       "dtype: int64"
      ]
     },
     "execution_count": 47,
     "metadata": {},
     "output_type": "execute_result"
    }
   ],
   "source": [
    "# 3. Counting with count()\n",
    "\n",
    "# Task 1: Count non-null entries in each column\n",
    "\n",
    "nonnull_columns = netflix_df.count()\n",
    "nonnull_columns"
   ]
  },
  {
   "cell_type": "code",
   "execution_count": 49,
   "id": "5897a992",
   "metadata": {},
   "outputs": [
    {
     "data": {
      "text/plain": [
       "583"
      ]
     },
     "execution_count": 49,
     "metadata": {},
     "output_type": "execute_result"
    }
   ],
   "source": [
    "# Count non-null entries in the 'imdb_score' column\n",
    "\n",
    "imdb_non_null = netflix_df['title'].count()\n",
    "imdb_non_null"
   ]
  },
  {
   "cell_type": "code",
   "execution_count": 52,
   "id": "d4ebcadd",
   "metadata": {},
   "outputs": [
    {
     "data": {
      "text/plain": [
       "title         232\n",
       "genre         232\n",
       "language      232\n",
       "imdb_score    232\n",
       "premiere      232\n",
       "runtime       232\n",
       "year          232\n",
       "dtype: int64"
      ]
     },
     "execution_count": 52,
     "metadata": {},
     "output_type": "execute_result"
    }
   ],
   "source": [
    "# Count rows where runtime > 100 minutes\n",
    "\n",
    "run_time =  netflix_df[netflix_df['runtime'] > 100].count()  \n",
    "run_time "
   ]
  },
  {
   "cell_type": "code",
   "execution_count": 54,
   "id": "c94ce4f4",
   "metadata": {},
   "outputs": [
    {
     "data": {
      "text/plain": [
       "4081"
      ]
     },
     "execution_count": 54,
     "metadata": {},
     "output_type": "execute_result"
    }
   ],
   "source": [
    "# 4. Counting with size\n",
    "# Task 1: Count total entries in the DataFrame\n",
    "\n",
    "total_entries = netflix_df.size\n",
    "total_entries"
   ]
  },
  {
   "cell_type": "code",
   "execution_count": 55,
   "id": "1384466d",
   "metadata": {},
   "outputs": [
    {
     "data": {
      "text/plain": [
       "583"
      ]
     },
     "execution_count": 55,
     "metadata": {},
     "output_type": "execute_result"
    }
   ],
   "source": [
    "# Total entries in the 'genre' column\n",
    "\n",
    "genre_total = netflix_df['genre'].size\n",
    "genre_total"
   ]
  },
  {
   "cell_type": "code",
   "execution_count": 56,
   "id": "d3f3d35a",
   "metadata": {},
   "outputs": [
    {
     "data": {
      "text/plain": [
       "genre\n",
       "Documentary                    159\n",
       "Drama                           77\n",
       "Comedy                          49\n",
       "Romantic comedy                 39\n",
       "Thriller                        33\n",
       "                              ... \n",
       "Political thriller               1\n",
       "Fantasy                          1\n",
       "Romantic comedy-drama            1\n",
       "Animation/Musical/Adventure      1\n",
       "Supernatural drama               1\n",
       "Name: count, Length: 114, dtype: int64"
      ]
     },
     "execution_count": 56,
     "metadata": {},
     "output_type": "execute_result"
    }
   ],
   "source": [
    "# 5. Counting with value_counts()\n",
    "# Task 1: Count unique values in a column\n",
    "\n",
    "# Count occurrences of each genre\n",
    "\n",
    "each_genre = netflix_df['genre'].value_counts()\n",
    "each_genre"
   ]
  },
  {
   "cell_type": "code",
   "execution_count": null,
   "id": "874d9e32",
   "metadata": {},
   "outputs": [],
   "source": [
    "# NULL Handling\n",
    "# Task 1: Detect missing values using isna() or isnull()\n",
    "# Check for missing values in the entire dataset"
   ]
  },
  {
   "cell_type": "code",
   "execution_count": 58,
   "id": "4ccf9141",
   "metadata": {},
   "outputs": [
    {
     "data": {
      "text/html": [
       "<div>\n",
       "<style scoped>\n",
       "    .dataframe tbody tr th:only-of-type {\n",
       "        vertical-align: middle;\n",
       "    }\n",
       "\n",
       "    .dataframe tbody tr th {\n",
       "        vertical-align: top;\n",
       "    }\n",
       "\n",
       "    .dataframe thead th {\n",
       "        text-align: right;\n",
       "    }\n",
       "</style>\n",
       "<table border=\"1\" class=\"dataframe\">\n",
       "  <thead>\n",
       "    <tr style=\"text-align: right;\">\n",
       "      <th></th>\n",
       "      <th>title</th>\n",
       "      <th>genre</th>\n",
       "      <th>language</th>\n",
       "      <th>imdb_score</th>\n",
       "      <th>premiere</th>\n",
       "      <th>runtime</th>\n",
       "      <th>year</th>\n",
       "    </tr>\n",
       "  </thead>\n",
       "  <tbody>\n",
       "    <tr>\n",
       "      <th>0</th>\n",
       "      <td>False</td>\n",
       "      <td>False</td>\n",
       "      <td>False</td>\n",
       "      <td>False</td>\n",
       "      <td>False</td>\n",
       "      <td>False</td>\n",
       "      <td>False</td>\n",
       "    </tr>\n",
       "    <tr>\n",
       "      <th>1</th>\n",
       "      <td>False</td>\n",
       "      <td>False</td>\n",
       "      <td>False</td>\n",
       "      <td>False</td>\n",
       "      <td>False</td>\n",
       "      <td>False</td>\n",
       "      <td>False</td>\n",
       "    </tr>\n",
       "    <tr>\n",
       "      <th>2</th>\n",
       "      <td>False</td>\n",
       "      <td>False</td>\n",
       "      <td>False</td>\n",
       "      <td>False</td>\n",
       "      <td>False</td>\n",
       "      <td>False</td>\n",
       "      <td>False</td>\n",
       "    </tr>\n",
       "  </tbody>\n",
       "</table>\n",
       "</div>"
      ],
      "text/plain": [
       "   title  genre  language  imdb_score  premiere  runtime   year\n",
       "0  False  False     False       False     False    False  False\n",
       "1  False  False     False       False     False    False  False\n",
       "2  False  False     False       False     False    False  False"
      ]
     },
     "execution_count": 58,
     "metadata": {},
     "output_type": "execute_result"
    }
   ],
   "source": [
    "missing_values = netflix_df.isnull()\n",
    "missing_values.head(3)"
   ]
  },
  {
   "cell_type": "code",
   "execution_count": 60,
   "id": "d486b3d6",
   "metadata": {},
   "outputs": [
    {
     "data": {
      "text/plain": [
       "0    False\n",
       "1    False\n",
       "2    False\n",
       "Name: genre, dtype: bool"
      ]
     },
     "execution_count": 60,
     "metadata": {},
     "output_type": "execute_result"
    }
   ],
   "source": [
    "# Check for missing values in a specific column\n",
    "\n",
    "missing_genre = netflix_df['genre'].isnull()\n",
    "missing_genre.head(3)"
   ]
  },
  {
   "cell_type": "code",
   "execution_count": 62,
   "id": "da26b4bd",
   "metadata": {},
   "outputs": [
    {
     "data": {
      "text/plain": [
       "0      True\n",
       "1      True\n",
       "2      True\n",
       "3      True\n",
       "4      True\n",
       "       ... \n",
       "578    True\n",
       "579    True\n",
       "580    True\n",
       "581    True\n",
       "582    True\n",
       "Name: imdb_score, Length: 583, dtype: bool"
      ]
     },
     "execution_count": 62,
     "metadata": {},
     "output_type": "execute_result"
    }
   ],
   "source": [
    "# Task 3: Detect existing (non-missing) values using notnull()\n",
    "# Get rows where 'imdb_score' is not missing\n",
    "\n",
    "rows_not_missing = netflix_df['imdb_score'].notnull()\n",
    "rows_not_missing "
   ]
  },
  {
   "cell_type": "code",
   "execution_count": 65,
   "id": "793ef868",
   "metadata": {},
   "outputs": [
    {
     "data": {
      "text/plain": [
       "array(['Drama', 'Romantic comedy', 'Horror-thriller', 'Documentary',\n",
       "       'Comedy', 'Comedy / Musical', 'Animation / Short', 'Action',\n",
       "       'Crime thriller', 'Horror', 'Romance', 'Thriller', 'Action/Comedy',\n",
       "       'War', 'Concert Film', 'Variety show', 'Comedy-drama',\n",
       "       'Musical/Western/Fantasy', 'Heist', 'Western',\n",
       "       'Action/Science fiction', 'Dark comedy', 'Family film',\n",
       "       'Action comedy', 'Romantic teen drama', 'One-man show',\n",
       "       'Animation', 'Drama / Short', 'Action-thriller', 'Romantic drama',\n",
       "       'Biopic', 'Crime drama', 'Heist film/Thriller', 'Science fiction',\n",
       "       'Coming-of-age comedy-drama', 'Comedy/Horror',\n",
       "       'Science fiction/Thriller', 'Psychological thriller drama',\n",
       "       'Spy thriller', 'Sports film', 'Comedy horror',\n",
       "       'Romantic comedy/Holiday', 'Romantic teenage drama',\n",
       "       'Superhero/Action', 'Adventure', 'Science fiction thriller',\n",
       "       'Musical / Short', 'Science fiction/Drama', 'Family',\n",
       "       'Aftershow / Interview', 'Action thriller',\n",
       "       'Animation/Musical/Adventure', 'Romantic comedy-drama', 'Fantasy',\n",
       "       'Psychological thriller', 'Political thriller', 'Superhero',\n",
       "       'Comedy mystery', 'Adventure/Comedy', 'Stop Motion', 'Mystery',\n",
       "       'Musical comedy', 'Horror thriller', 'Historical-epic',\n",
       "       'Christmas musical', 'Black comedy', 'Mentalism special',\n",
       "       'Animation/Comedy/Adventure', 'Mockumentary', 'Animation / Comedy',\n",
       "       'Family/Comedy-drama', 'Satire', 'Dance comedy', 'Variety Show',\n",
       "       'Hidden-camera prank comedy', 'Anthology/Dark comedy', 'Making-of',\n",
       "       'Animation/Superhero', 'Science fiction/Action',\n",
       "       'Animated musical comedy', 'Horror/Crime drama',\n",
       "       'Animation/Christmas/Comedy/Adventure', 'Musical', 'Sports-drama',\n",
       "       'Christian musical', 'Anime/Fantasy', 'Science fiction adventure',\n",
       "       'Adventure-romance', 'Teen comedy-drama', 'Romance drama',\n",
       "       'Anime/Science fiction', 'Teen comedy horror', 'Christmas comedy',\n",
       "       'Action-adventure', 'War drama', 'Romantic thriller',\n",
       "       'Urban fantasy', 'War-Comedy', 'Animation / Musicial',\n",
       "       'Biographical/Comedy', 'Zombie/Heist',\n",
       "       'Animation / Science Fiction', 'Drama/Horror',\n",
       "       'Science fiction/Mystery', 'Anime / Short', 'Horror comedy',\n",
       "       'Comedy/Fantasy/Family', 'Family/Christmas musical',\n",
       "       'Psychological horror', 'Superhero-Comedy', 'Historical drama',\n",
       "       'Christmas/Fantasy/Adventure/Comedy', 'Drama-Comedy',\n",
       "       'Supernatural drama'], dtype=object)"
      ]
     },
     "execution_count": 65,
     "metadata": {},
     "output_type": "execute_result"
    }
   ],
   "source": [
    "# Unique Values\n",
    "# Task 1: Find unique values including NULL using unique()\n",
    "\n",
    "# Unique genres\n",
    "\n",
    "unique_genres =  netflix_df['genre'].unique()\n",
    "unique_genres"
   ]
  },
  {
   "cell_type": "code",
   "execution_count": 66,
   "id": "30920168",
   "metadata": {},
   "outputs": [
    {
     "data": {
      "text/plain": [
       "array(['Spanish', 'French', 'English', 'Portuguese', 'English/Mandarin',\n",
       "       'English/Spanish', 'German', 'Italian', 'Korean', 'Thia/English',\n",
       "       'Hindi', 'Malay', 'Japanese', 'Marathi', 'Swedish', 'Indonesian',\n",
       "       'Dutch', 'Filipino', 'Spanish/English',\n",
       "       'English/Taiwanese/Mandarin', 'Georgian', 'English/Hindi',\n",
       "       'English/Russian', 'Spanish/Catalan', 'English/Ukranian/Russian',\n",
       "       'Tamil', 'Norwegian', 'Turkish', 'English/Arabic', 'Polish',\n",
       "       'English/Swedish', 'Bengali', 'English/Japanese', 'Thai',\n",
       "       'English/Korean', 'Khmer/English/French', 'English/Akan',\n",
       "       'Spanish/Basque'], dtype=object)"
      ]
     },
     "execution_count": 66,
     "metadata": {},
     "output_type": "execute_result"
    }
   ],
   "source": [
    "# Task 2: Find the number of unique values excluding NULL using nunique()\n",
    "# Number of unique languages\n",
    "\n",
    "unique_languages = netflix_df['language'].unique()\n",
    "unique_languages"
   ]
  },
  {
   "cell_type": "code",
   "execution_count": 97,
   "id": "4228a2e0",
   "metadata": {},
   "outputs": [
    {
     "data": {
      "text/plain": [
       "0"
      ]
     },
     "execution_count": 97,
     "metadata": {},
     "output_type": "execute_result"
    }
   ],
   "source": [
    "# Duplicate Handling\n",
    "# Task 1: Check for duplicates using duplicated()\n",
    "# Identify duplicate rows\n",
    "\n",
    "duplicated_rows = netflix_df.duplicated().sum()\n",
    "duplicated_rows "
   ]
  },
  {
   "cell_type": "code",
   "execution_count": 95,
   "id": "11a5bac2",
   "metadata": {},
   "outputs": [
    {
     "data": {
      "text/html": [
       "<div>\n",
       "<style scoped>\n",
       "    .dataframe tbody tr th:only-of-type {\n",
       "        vertical-align: middle;\n",
       "    }\n",
       "\n",
       "    .dataframe tbody tr th {\n",
       "        vertical-align: top;\n",
       "    }\n",
       "\n",
       "    .dataframe thead th {\n",
       "        text-align: right;\n",
       "    }\n",
       "</style>\n",
       "<table border=\"1\" class=\"dataframe\">\n",
       "  <thead>\n",
       "    <tr style=\"text-align: right;\">\n",
       "      <th></th>\n",
       "      <th>title</th>\n",
       "      <th>genre</th>\n",
       "      <th>language</th>\n",
       "      <th>imdb_score</th>\n",
       "      <th>premiere</th>\n",
       "      <th>runtime</th>\n",
       "      <th>year</th>\n",
       "    </tr>\n",
       "  </thead>\n",
       "  <tbody>\n",
       "    <tr>\n",
       "      <th>0</th>\n",
       "      <td>Notes for My Son</td>\n",
       "      <td>Drama</td>\n",
       "      <td>Spanish</td>\n",
       "      <td>6.3</td>\n",
       "      <td>11/24/2020</td>\n",
       "      <td>83</td>\n",
       "      <td>2020</td>\n",
       "    </tr>\n",
       "    <tr>\n",
       "      <th>1</th>\n",
       "      <td>To Each, Her Own</td>\n",
       "      <td>Romantic comedy</td>\n",
       "      <td>French</td>\n",
       "      <td>5.3</td>\n",
       "      <td>6/24/2018</td>\n",
       "      <td>95</td>\n",
       "      <td>2018</td>\n",
       "    </tr>\n",
       "    <tr>\n",
       "      <th>2</th>\n",
       "      <td>The Lovebirds</td>\n",
       "      <td>Romantic comedy</td>\n",
       "      <td>English</td>\n",
       "      <td>6.1</td>\n",
       "      <td>5/22/2020</td>\n",
       "      <td>87</td>\n",
       "      <td>2020</td>\n",
       "    </tr>\n",
       "    <tr>\n",
       "      <th>3</th>\n",
       "      <td>The Perfection</td>\n",
       "      <td>Horror-thriller</td>\n",
       "      <td>English</td>\n",
       "      <td>6.1</td>\n",
       "      <td>5/24/2019</td>\n",
       "      <td>90</td>\n",
       "      <td>2019</td>\n",
       "    </tr>\n",
       "    <tr>\n",
       "      <th>4</th>\n",
       "      <td>Happy Anniversary</td>\n",
       "      <td>Romantic comedy</td>\n",
       "      <td>English</td>\n",
       "      <td>5.8</td>\n",
       "      <td>3/30/2018</td>\n",
       "      <td>78</td>\n",
       "      <td>2018</td>\n",
       "    </tr>\n",
       "    <tr>\n",
       "      <th>...</th>\n",
       "      <td>...</td>\n",
       "      <td>...</td>\n",
       "      <td>...</td>\n",
       "      <td>...</td>\n",
       "      <td>...</td>\n",
       "      <td>...</td>\n",
       "      <td>...</td>\n",
       "    </tr>\n",
       "    <tr>\n",
       "      <th>578</th>\n",
       "      <td>Rolling Thunder Revue: A bob Dylan Story by Ma...</td>\n",
       "      <td>Documentary</td>\n",
       "      <td>English</td>\n",
       "      <td>7.6</td>\n",
       "      <td>6/12/2019</td>\n",
       "      <td>144</td>\n",
       "      <td>2019</td>\n",
       "    </tr>\n",
       "    <tr>\n",
       "      <th>579</th>\n",
       "      <td>Freaks: You're One of Us</td>\n",
       "      <td>Supernatural drama</td>\n",
       "      <td>German</td>\n",
       "      <td>5.4</td>\n",
       "      <td>9/2/2020</td>\n",
       "      <td>92</td>\n",
       "      <td>2020</td>\n",
       "    </tr>\n",
       "    <tr>\n",
       "      <th>580</th>\n",
       "      <td>Squared Love</td>\n",
       "      <td>Romantic comedy</td>\n",
       "      <td>Polish</td>\n",
       "      <td>5.0</td>\n",
       "      <td>2/11/2021</td>\n",
       "      <td>102</td>\n",
       "      <td>2021</td>\n",
       "    </tr>\n",
       "    <tr>\n",
       "      <th>581</th>\n",
       "      <td>My Own Man</td>\n",
       "      <td>Documentary</td>\n",
       "      <td>English</td>\n",
       "      <td>6.4</td>\n",
       "      <td>12/13/2014</td>\n",
       "      <td>81</td>\n",
       "      <td>2014</td>\n",
       "    </tr>\n",
       "    <tr>\n",
       "      <th>582</th>\n",
       "      <td>Biggie: I Got a Story to Tell</td>\n",
       "      <td>Documentary</td>\n",
       "      <td>English</td>\n",
       "      <td>6.9</td>\n",
       "      <td>3/1/2021</td>\n",
       "      <td>97</td>\n",
       "      <td>2021</td>\n",
       "    </tr>\n",
       "  </tbody>\n",
       "</table>\n",
       "<p>583 rows × 7 columns</p>\n",
       "</div>"
      ],
      "text/plain": [
       "                                                 title               genre  \\\n",
       "0                                     Notes for My Son               Drama   \n",
       "1                                     To Each, Her Own     Romantic comedy   \n",
       "2                                        The Lovebirds     Romantic comedy   \n",
       "3                                       The Perfection     Horror-thriller   \n",
       "4                                    Happy Anniversary     Romantic comedy   \n",
       "..                                                 ...                 ...   \n",
       "578  Rolling Thunder Revue: A bob Dylan Story by Ma...         Documentary   \n",
       "579                           Freaks: You're One of Us  Supernatural drama   \n",
       "580                                       Squared Love     Romantic comedy   \n",
       "581                                         My Own Man         Documentary   \n",
       "582                      Biggie: I Got a Story to Tell         Documentary   \n",
       "\n",
       "    language  imdb_score    premiere  runtime  year  \n",
       "0    Spanish         6.3  11/24/2020       83  2020  \n",
       "1     French         5.3   6/24/2018       95  2018  \n",
       "2    English         6.1   5/22/2020       87  2020  \n",
       "3    English         6.1   5/24/2019       90  2019  \n",
       "4    English         5.8   3/30/2018       78  2018  \n",
       "..       ...         ...         ...      ...   ...  \n",
       "578  English         7.6   6/12/2019      144  2019  \n",
       "579   German         5.4    9/2/2020       92  2020  \n",
       "580   Polish         5.0   2/11/2021      102  2021  \n",
       "581  English         6.4  12/13/2014       81  2014  \n",
       "582  English         6.9    3/1/2021       97  2021  \n",
       "\n",
       "[583 rows x 7 columns]"
      ]
     },
     "execution_count": 95,
     "metadata": {},
     "output_type": "execute_result"
    }
   ],
   "source": [
    "# Task 2: Remove duplicate rows using drop_duplicates()\n",
    "# Remove duplicate rows\n",
    "\n",
    "drop_duplicated = netflix_df.drop_duplicates()\n",
    "drop_duplicated"
   ]
  },
  {
   "cell_type": "code",
   "execution_count": 75,
   "id": "86444717",
   "metadata": {},
   "outputs": [
    {
     "data": {
      "text/html": [
       "<div>\n",
       "<style scoped>\n",
       "    .dataframe tbody tr th:only-of-type {\n",
       "        vertical-align: middle;\n",
       "    }\n",
       "\n",
       "    .dataframe tbody tr th {\n",
       "        vertical-align: top;\n",
       "    }\n",
       "\n",
       "    .dataframe thead th {\n",
       "        text-align: right;\n",
       "    }\n",
       "</style>\n",
       "<table border=\"1\" class=\"dataframe\">\n",
       "  <thead>\n",
       "    <tr style=\"text-align: right;\">\n",
       "      <th></th>\n",
       "      <th>title</th>\n",
       "      <th>genre</th>\n",
       "      <th>language</th>\n",
       "      <th>imdb_score</th>\n",
       "      <th>premiere</th>\n",
       "      <th>runtime</th>\n",
       "      <th>year</th>\n",
       "    </tr>\n",
       "  </thead>\n",
       "  <tbody>\n",
       "    <tr>\n",
       "      <th>0</th>\n",
       "      <td>Notes for My Son</td>\n",
       "      <td>Drama</td>\n",
       "      <td>Spanish</td>\n",
       "      <td>6.3</td>\n",
       "      <td>11/24/2020</td>\n",
       "      <td>83</td>\n",
       "      <td>2020</td>\n",
       "    </tr>\n",
       "    <tr>\n",
       "      <th>6</th>\n",
       "      <td>Death to 2020</td>\n",
       "      <td>Comedy</td>\n",
       "      <td>English</td>\n",
       "      <td>6.8</td>\n",
       "      <td>12/27/2020</td>\n",
       "      <td>70</td>\n",
       "      <td>2020</td>\n",
       "    </tr>\n",
       "  </tbody>\n",
       "</table>\n",
       "</div>"
      ],
      "text/plain": [
       "              title   genre language  imdb_score    premiere  runtime  year\n",
       "0  Notes for My Son   Drama  Spanish         6.3  11/24/2020       83  2020\n",
       "6     Death to 2020  Comedy  English         6.8  12/27/2020       70  2020"
      ]
     },
     "execution_count": 75,
     "metadata": {},
     "output_type": "execute_result"
    }
   ],
   "source": [
    "# Value Checking\n",
    "# Task 1: Check if values exist in a collection using isin()\n",
    "\n",
    "\n",
    "# Filter rows where 'genre' is either \"Drama\" or \"Comedy\"\n",
    "\n",
    "genre_filter = netflix_df[netflix_df['genre'].isin(['Drama', 'Comedy'])]\n",
    "genre_filter.head(2)"
   ]
  },
  {
   "cell_type": "code",
   "execution_count": 79,
   "id": "09d8ddf3",
   "metadata": {},
   "outputs": [
    {
     "data": {
      "text/html": [
       "<div>\n",
       "<style scoped>\n",
       "    .dataframe tbody tr th:only-of-type {\n",
       "        vertical-align: middle;\n",
       "    }\n",
       "\n",
       "    .dataframe tbody tr th {\n",
       "        vertical-align: top;\n",
       "    }\n",
       "\n",
       "    .dataframe thead th {\n",
       "        text-align: right;\n",
       "    }\n",
       "</style>\n",
       "<table border=\"1\" class=\"dataframe\">\n",
       "  <thead>\n",
       "    <tr style=\"text-align: right;\">\n",
       "      <th></th>\n",
       "      <th>title</th>\n",
       "      <th>genre</th>\n",
       "      <th>language</th>\n",
       "      <th>imdb_score</th>\n",
       "      <th>premiere</th>\n",
       "      <th>runtime</th>\n",
       "      <th>year</th>\n",
       "    </tr>\n",
       "  </thead>\n",
       "  <tbody>\n",
       "    <tr>\n",
       "      <th>0</th>\n",
       "      <td>Notes for My Son</td>\n",
       "      <td>Drama</td>\n",
       "      <td>Spanish</td>\n",
       "      <td>6.3</td>\n",
       "      <td>11/24/2020</td>\n",
       "      <td>83</td>\n",
       "      <td>2020</td>\n",
       "    </tr>\n",
       "    <tr>\n",
       "      <th>2</th>\n",
       "      <td>The Lovebirds</td>\n",
       "      <td>Romantic comedy</td>\n",
       "      <td>English</td>\n",
       "      <td>6.1</td>\n",
       "      <td>5/22/2020</td>\n",
       "      <td>87</td>\n",
       "      <td>2020</td>\n",
       "    </tr>\n",
       "    <tr>\n",
       "      <th>3</th>\n",
       "      <td>The Perfection</td>\n",
       "      <td>Horror-thriller</td>\n",
       "      <td>English</td>\n",
       "      <td>6.1</td>\n",
       "      <td>5/24/2019</td>\n",
       "      <td>90</td>\n",
       "      <td>2019</td>\n",
       "    </tr>\n",
       "  </tbody>\n",
       "</table>\n",
       "</div>"
      ],
      "text/plain": [
       "              title            genre language  imdb_score    premiere  \\\n",
       "0  Notes for My Son            Drama  Spanish         6.3  11/24/2020   \n",
       "2     The Lovebirds  Romantic comedy  English         6.1   5/22/2020   \n",
       "3    The Perfection  Horror-thriller  English         6.1   5/24/2019   \n",
       "\n",
       "   runtime  year  \n",
       "0       83  2020  \n",
       "2       87  2020  \n",
       "3       90  2019  "
      ]
     },
     "execution_count": 79,
     "metadata": {},
     "output_type": "execute_result"
    }
   ],
   "source": [
    "# Task 2: Check if values are within a range using between()\n",
    "# Filter rows where 'imdb_score' is between 6 and 8\n",
    "\n",
    "imdb_score_range = netflix_df[netflix_df['imdb_score'].between(6,8)]\n",
    "imdb_score_range.head(3)"
   ]
  },
  {
   "cell_type": "code",
   "execution_count": 84,
   "id": "f24abd0c",
   "metadata": {},
   "outputs": [
    {
     "data": {
      "text/plain": [
       "title          object\n",
       "genre          object\n",
       "language       object\n",
       "imdb_score    float64\n",
       "premiere       object\n",
       "runtime         int64\n",
       "year            int64\n",
       "dtype: object"
      ]
     },
     "execution_count": 84,
     "metadata": {},
     "output_type": "execute_result"
    }
   ],
   "source": [
    "# Type Conversion with astype()\n",
    "# Task 1: Convert a column to a specific data type\n",
    "# Convert the 'year' column to string type\n",
    "\n",
    "netflix_df['year'] = netflix_df['year'].astype(int)\n",
    "netflix_df.dtypes"
   ]
  },
  {
   "cell_type": "code",
   "execution_count": null,
   "id": "c03cb773",
   "metadata": {},
   "outputs": [],
   "source": [
    "# Convert 'runtime' to float and 'imdb_score' to integer (for demonstration)\n",
    "\n",
    "# netflix_df = netfix_df.astype( {'imdb_score' : 'float', 'imdb_score': 'int'}  )"
   ]
  },
  {
   "cell_type": "code",
   "execution_count": null,
   "id": "84ec75ee",
   "metadata": {},
   "outputs": [],
   "source": [
    "# Value Replacement with replace()\n",
    "# Task 1: Replace specific values in a column.\n",
    "# Replace \"Drama\" with \"Dramatic Movie\" in the 'genre' column"
   ]
  },
  {
   "cell_type": "code",
   "execution_count": 86,
   "id": "4a0e357c",
   "metadata": {},
   "outputs": [
    {
     "data": {
      "text/plain": [
       "0          Dramatic Movie\n",
       "1         Romantic comedy\n",
       "2         Romantic comedy\n",
       "3         Horror-thriller\n",
       "4         Romantic comedy\n",
       "              ...        \n",
       "578           Documentary\n",
       "579    Supernatural drama\n",
       "580       Romantic comedy\n",
       "581           Documentary\n",
       "582           Documentary\n",
       "Name: genre, Length: 583, dtype: object"
      ]
     },
     "execution_count": 86,
     "metadata": {},
     "output_type": "execute_result"
    }
   ],
   "source": [
    "netflix_df['genre'] = netflix_df['genre'].replace('Drama', 'Dramatic Movie')\n",
    "netflix_df['genre']"
   ]
  },
  {
   "cell_type": "code",
   "execution_count": 87,
   "id": "90601c0c",
   "metadata": {},
   "outputs": [
    {
     "data": {
      "text/plain": [
       "0                   Drama\n",
       "1         Romantic comedy\n",
       "2         Romantic comedy\n",
       "3         Horror-thriller\n",
       "4         Romantic comedy\n",
       "              ...        \n",
       "578           Documentary\n",
       "579    Supernatural drama\n",
       "580       Romantic comedy\n",
       "581           Documentary\n",
       "582           Documentary\n",
       "Name: genre, Length: 583, dtype: object"
      ]
     },
     "execution_count": 87,
     "metadata": {},
     "output_type": "execute_result"
    }
   ],
   "source": [
    "netflix_df['genre'] = netflix_df['genre'].replace('Dramatic Movie', 'Drama')\n",
    "netflix_df['genre']"
   ]
  },
  {
   "cell_type": "code",
   "execution_count": null,
   "id": "787f9fb7",
   "metadata": {},
   "outputs": [],
   "source": [
    "# Task 2: Replace multiple values at once.\n",
    "    # Replace \"Drama\" with \"Dramatic Movie\" and \"Comedy\" with \"Funny Movie\""
   ]
  },
  {
   "cell_type": "code",
   "execution_count": 91,
   "id": "d5276dc9",
   "metadata": {},
   "outputs": [],
   "source": [
    "# Replace \"Drama\" with \"Dramatic Movie\" and \"Comedy\" with \"Funny Movie\"\n",
    "# netflix_data['genre'] = netflix_data['genre'].replace({'Drama': 'Dramatic Movie', 'Comedy': 'Funny Movie'})"
   ]
  },
  {
   "cell_type": "code",
   "execution_count": 93,
   "id": "41bb2a15",
   "metadata": {},
   "outputs": [],
   "source": [
    "# Replace IMDb scores below 5 with \"Low\" and above 8 with \"High\""
   ]
  },
  {
   "cell_type": "code",
   "execution_count": null,
   "id": "a6b8d532",
   "metadata": {},
   "outputs": [],
   "source": []
  }
 ],
 "metadata": {
  "kernelspec": {
   "display_name": "Python 3 (ipykernel)",
   "language": "python",
   "name": "python3"
  },
  "language_info": {
   "codemirror_mode": {
    "name": "ipython",
    "version": 3
   },
   "file_extension": ".py",
   "mimetype": "text/x-python",
   "name": "python",
   "nbconvert_exporter": "python",
   "pygments_lexer": "ipython3",
   "version": "3.11.5"
  }
 },
 "nbformat": 4,
 "nbformat_minor": 5
}
