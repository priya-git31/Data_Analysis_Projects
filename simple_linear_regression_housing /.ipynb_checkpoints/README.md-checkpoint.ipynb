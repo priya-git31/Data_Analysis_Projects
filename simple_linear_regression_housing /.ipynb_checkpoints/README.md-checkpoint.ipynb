{
 "cells": [
  {
   "cell_type": "markdown",
   "id": "e70dbb1b",
   "metadata": {},
   "source": [
    "## Linear_Regression_Housing_Prices"
   ]
  },
  {
   "cell_type": "markdown",
   "id": "f15af014",
   "metadata": {},
   "source": [
    "Linear Regression: Predicting housing prices utilizing USA_Housing.csv.\n",
    "    \n",
    "Project utilizes Scikitlearn, Numpy, Pandas, Matplotlib, Seaborn.\n",
    "\n"
   ]
  },
  {
   "cell_type": "code",
   "execution_count": null,
   "id": "a6927980",
   "metadata": {},
   "outputs": [],
   "source": []
  }
 ],
 "metadata": {
  "kernelspec": {
   "display_name": "Python 3 (ipykernel)",
   "language": "python",
   "name": "python3"
  },
  "language_info": {
   "codemirror_mode": {
    "name": "ipython",
    "version": 3
   },
   "file_extension": ".py",
   "mimetype": "text/x-python",
   "name": "python",
   "nbconvert_exporter": "python",
   "pygments_lexer": "ipython3",
   "version": "3.11.5"
  }
 },
 "nbformat": 4,
 "nbformat_minor": 5
}
