{
 "cells": [
  {
   "cell_type": "code",
   "execution_count": 1,
   "id": "0ce59ca6",
   "metadata": {},
   "outputs": [],
   "source": [
    "import pandas as pd \n",
    "import matplotlib.pyplot as plt\n",
    "import seaborn as sns"
   ]
  },
  {
   "cell_type": "code",
   "execution_count": 2,
   "id": "46775392",
   "metadata": {},
   "outputs": [],
   "source": [
    "netflix_df = pd.read_csv('netflix.csv')"
   ]
  },
  {
   "cell_type": "code",
   "execution_count": 3,
   "id": "15a7ef26",
   "metadata": {},
   "outputs": [
    {
     "data": {
      "text/html": [
       "<div>\n",
       "<style scoped>\n",
       "    .dataframe tbody tr th:only-of-type {\n",
       "        vertical-align: middle;\n",
       "    }\n",
       "\n",
       "    .dataframe tbody tr th {\n",
       "        vertical-align: top;\n",
       "    }\n",
       "\n",
       "    .dataframe thead th {\n",
       "        text-align: right;\n",
       "    }\n",
       "</style>\n",
       "<table border=\"1\" class=\"dataframe\">\n",
       "  <thead>\n",
       "    <tr style=\"text-align: right;\">\n",
       "      <th></th>\n",
       "      <th>title</th>\n",
       "      <th>genre</th>\n",
       "      <th>language</th>\n",
       "      <th>imdb_score</th>\n",
       "      <th>premiere</th>\n",
       "      <th>runtime</th>\n",
       "      <th>year</th>\n",
       "    </tr>\n",
       "  </thead>\n",
       "  <tbody>\n",
       "    <tr>\n",
       "      <th>0</th>\n",
       "      <td>Notes for My Son</td>\n",
       "      <td>Drama</td>\n",
       "      <td>Spanish</td>\n",
       "      <td>6.3</td>\n",
       "      <td>11/24/2020</td>\n",
       "      <td>83</td>\n",
       "      <td>2020</td>\n",
       "    </tr>\n",
       "    <tr>\n",
       "      <th>1</th>\n",
       "      <td>To Each, Her Own</td>\n",
       "      <td>Romantic comedy</td>\n",
       "      <td>French</td>\n",
       "      <td>5.3</td>\n",
       "      <td>6/24/2018</td>\n",
       "      <td>95</td>\n",
       "      <td>2018</td>\n",
       "    </tr>\n",
       "    <tr>\n",
       "      <th>2</th>\n",
       "      <td>The Lovebirds</td>\n",
       "      <td>Romantic comedy</td>\n",
       "      <td>English</td>\n",
       "      <td>6.1</td>\n",
       "      <td>5/22/2020</td>\n",
       "      <td>87</td>\n",
       "      <td>2020</td>\n",
       "    </tr>\n",
       "  </tbody>\n",
       "</table>\n",
       "</div>"
      ],
      "text/plain": [
       "              title            genre language  imdb_score    premiere  \\\n",
       "0  Notes for My Son            Drama  Spanish         6.3  11/24/2020   \n",
       "1  To Each, Her Own  Romantic comedy   French         5.3   6/24/2018   \n",
       "2     The Lovebirds  Romantic comedy  English         6.1   5/22/2020   \n",
       "\n",
       "   runtime  year  \n",
       "0       83  2020  \n",
       "1       95  2018  \n",
       "2       87  2020  "
      ]
     },
     "execution_count": 3,
     "metadata": {},
     "output_type": "execute_result"
    }
   ],
   "source": [
    "netflix_df.head(3)"
   ]
  },
  {
   "cell_type": "markdown",
   "id": "24886d12",
   "metadata": {},
   "source": [
    "Distinct Titles in Netfix Data set "
   ]
  }
 ],
 "metadata": {
  "kernelspec": {
   "display_name": "Python 3 (ipykernel)",
   "language": "python",
   "name": "python3"
  },
  "language_info": {
   "codemirror_mode": {
    "name": "ipython",
    "version": 3
   },
   "file_extension": ".py",
   "mimetype": "text/x-python",
   "name": "python",
   "nbconvert_exporter": "python",
   "pygments_lexer": "ipython3",
   "version": "3.11.5"
  }
 },
 "nbformat": 4,
 "nbformat_minor": 5
}
