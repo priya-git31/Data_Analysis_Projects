{
 "cells": [
  {
   "cell_type": "markdown",
   "id": "2768f3fa",
   "metadata": {},
   "source": [
    "# Square Enix Website Data Analysis"
   ]
  },
  {
   "cell_type": "code",
   "execution_count": 22,
   "id": "fb9a6465",
   "metadata": {},
   "outputs": [],
   "source": [
    "import pandas as pd \n",
    "import matplotlib.pyplot as plt \n",
    "import seaborn as sns\n",
    "import numpy as np \n",
    "\n",
    "#Ignore all warnings \n",
    "\n",
    "import warnings\n",
    "warnings.filterwarnings(\"ignore\")"
   ]
  },
  {
   "cell_type": "markdown",
   "id": "40d24372",
   "metadata": {},
   "source": [
    "### Improrting Data "
   ]
  },
  {
   "cell_type": "code",
   "execution_count": 23,
   "id": "f0085ae6",
   "metadata": {},
   "outputs": [],
   "source": [
    "website_df = pd.read_excel(\"Case Study_Website Data (2).xlsx\")"
   ]
  },
  {
   "cell_type": "markdown",
   "id": "8cdb52fd",
   "metadata": {},
   "source": [
    "### Basic Information About the Data"
   ]
  },
  {
   "cell_type": "code",
   "execution_count": 24,
   "id": "d40f1a69",
   "metadata": {},
   "outputs": [
    {
     "data": {
      "text/html": [
       "<div>\n",
       "<style scoped>\n",
       "    .dataframe tbody tr th:only-of-type {\n",
       "        vertical-align: middle;\n",
       "    }\n",
       "\n",
       "    .dataframe tbody tr th {\n",
       "        vertical-align: top;\n",
       "    }\n",
       "\n",
       "    .dataframe thead th {\n",
       "        text-align: right;\n",
       "    }\n",
       "</style>\n",
       "<table border=\"1\" class=\"dataframe\">\n",
       "  <thead>\n",
       "    <tr style=\"text-align: right;\">\n",
       "      <th></th>\n",
       "      <th>date</th>\n",
       "      <th>UserID</th>\n",
       "      <th>Campaign Name</th>\n",
       "      <th>source</th>\n",
       "      <th>platform</th>\n",
       "      <th>device</th>\n",
       "      <th>pagesVisited</th>\n",
       "      <th>timeOnSite</th>\n",
       "    </tr>\n",
       "  </thead>\n",
       "  <tbody>\n",
       "    <tr>\n",
       "      <th>0</th>\n",
       "      <td>2025-01-14 17:50:34</td>\n",
       "      <td>52677213</td>\n",
       "      <td>Summon Savings</td>\n",
       "      <td>Email</td>\n",
       "      <td>Email</td>\n",
       "      <td>desktop</td>\n",
       "      <td>6</td>\n",
       "      <td>598</td>\n",
       "    </tr>\n",
       "    <tr>\n",
       "      <th>1</th>\n",
       "      <td>2025-01-04 06:44:25</td>\n",
       "      <td>17650652</td>\n",
       "      <td>Moogle Merch Mania</td>\n",
       "      <td>Paid Search</td>\n",
       "      <td>Google</td>\n",
       "      <td>mobile</td>\n",
       "      <td>3</td>\n",
       "      <td>272</td>\n",
       "    </tr>\n",
       "    <tr>\n",
       "      <th>2</th>\n",
       "      <td>2025-01-17 02:28:26</td>\n",
       "      <td>96964816</td>\n",
       "      <td>Summon Savings</td>\n",
       "      <td>Paid Search</td>\n",
       "      <td>Google</td>\n",
       "      <td>mobile</td>\n",
       "      <td>3</td>\n",
       "      <td>107</td>\n",
       "    </tr>\n",
       "    <tr>\n",
       "      <th>3</th>\n",
       "      <td>2025-01-13 03:27:57</td>\n",
       "      <td>51304201</td>\n",
       "      <td>Summon Savings</td>\n",
       "      <td>Email</td>\n",
       "      <td>Email</td>\n",
       "      <td>desktop</td>\n",
       "      <td>1</td>\n",
       "      <td>319</td>\n",
       "    </tr>\n",
       "    <tr>\n",
       "      <th>4</th>\n",
       "      <td>2025-01-19 21:15:24</td>\n",
       "      <td>72438156</td>\n",
       "      <td>Aeris Weekend Deals</td>\n",
       "      <td>Social</td>\n",
       "      <td>IG</td>\n",
       "      <td>mobile</td>\n",
       "      <td>6</td>\n",
       "      <td>485</td>\n",
       "    </tr>\n",
       "  </tbody>\n",
       "</table>\n",
       "</div>"
      ],
      "text/plain": [
       "                 date    UserID        Campaign Name       source platform  \\\n",
       "0 2025-01-14 17:50:34  52677213       Summon Savings        Email    Email   \n",
       "1 2025-01-04 06:44:25  17650652   Moogle Merch Mania  Paid Search   Google   \n",
       "2 2025-01-17 02:28:26  96964816       Summon Savings  Paid Search   Google   \n",
       "3 2025-01-13 03:27:57  51304201       Summon Savings        Email    Email   \n",
       "4 2025-01-19 21:15:24  72438156  Aeris Weekend Deals       Social       IG   \n",
       "\n",
       "    device  pagesVisited  timeOnSite  \n",
       "0  desktop             6         598  \n",
       "1   mobile             3         272  \n",
       "2   mobile             3         107  \n",
       "3  desktop             1         319  \n",
       "4   mobile             6         485  "
      ]
     },
     "execution_count": 24,
     "metadata": {},
     "output_type": "execute_result"
    }
   ],
   "source": [
    "website_df.head(5)"
   ]
  },
  {
   "cell_type": "code",
   "execution_count": 25,
   "id": "d8710046",
   "metadata": {},
   "outputs": [
    {
     "data": {
      "text/html": [
       "<div>\n",
       "<style scoped>\n",
       "    .dataframe tbody tr th:only-of-type {\n",
       "        vertical-align: middle;\n",
       "    }\n",
       "\n",
       "    .dataframe tbody tr th {\n",
       "        vertical-align: top;\n",
       "    }\n",
       "\n",
       "    .dataframe thead th {\n",
       "        text-align: right;\n",
       "    }\n",
       "</style>\n",
       "<table border=\"1\" class=\"dataframe\">\n",
       "  <thead>\n",
       "    <tr style=\"text-align: right;\">\n",
       "      <th></th>\n",
       "      <th>date</th>\n",
       "      <th>UserID</th>\n",
       "      <th>Campaign Name</th>\n",
       "      <th>source</th>\n",
       "      <th>platform</th>\n",
       "      <th>device</th>\n",
       "      <th>pagesVisited</th>\n",
       "      <th>timeOnSite</th>\n",
       "    </tr>\n",
       "  </thead>\n",
       "  <tbody>\n",
       "    <tr>\n",
       "      <th>0</th>\n",
       "      <td>2025-01-14 17:50:34</td>\n",
       "      <td>52677213</td>\n",
       "      <td>Summon Savings</td>\n",
       "      <td>Email</td>\n",
       "      <td>Email</td>\n",
       "      <td>desktop</td>\n",
       "      <td>6</td>\n",
       "      <td>598</td>\n",
       "    </tr>\n",
       "    <tr>\n",
       "      <th>1</th>\n",
       "      <td>2025-01-04 06:44:25</td>\n",
       "      <td>17650652</td>\n",
       "      <td>Moogle Merch Mania</td>\n",
       "      <td>Paid Search</td>\n",
       "      <td>Google</td>\n",
       "      <td>mobile</td>\n",
       "      <td>3</td>\n",
       "      <td>272</td>\n",
       "    </tr>\n",
       "    <tr>\n",
       "      <th>2</th>\n",
       "      <td>2025-01-17 02:28:26</td>\n",
       "      <td>96964816</td>\n",
       "      <td>Summon Savings</td>\n",
       "      <td>Paid Search</td>\n",
       "      <td>Google</td>\n",
       "      <td>mobile</td>\n",
       "      <td>3</td>\n",
       "      <td>107</td>\n",
       "    </tr>\n",
       "    <tr>\n",
       "      <th>3</th>\n",
       "      <td>2025-01-13 03:27:57</td>\n",
       "      <td>51304201</td>\n",
       "      <td>Summon Savings</td>\n",
       "      <td>Email</td>\n",
       "      <td>Email</td>\n",
       "      <td>desktop</td>\n",
       "      <td>1</td>\n",
       "      <td>319</td>\n",
       "    </tr>\n",
       "    <tr>\n",
       "      <th>4</th>\n",
       "      <td>2025-01-19 21:15:24</td>\n",
       "      <td>72438156</td>\n",
       "      <td>Aeris Weekend Deals</td>\n",
       "      <td>Social</td>\n",
       "      <td>IG</td>\n",
       "      <td>mobile</td>\n",
       "      <td>6</td>\n",
       "      <td>485</td>\n",
       "    </tr>\n",
       "  </tbody>\n",
       "</table>\n",
       "</div>"
      ],
      "text/plain": [
       "                 date    UserID        Campaign Name       source platform  \\\n",
       "0 2025-01-14 17:50:34  52677213       Summon Savings        Email    Email   \n",
       "1 2025-01-04 06:44:25  17650652   Moogle Merch Mania  Paid Search   Google   \n",
       "2 2025-01-17 02:28:26  96964816       Summon Savings  Paid Search   Google   \n",
       "3 2025-01-13 03:27:57  51304201       Summon Savings        Email    Email   \n",
       "4 2025-01-19 21:15:24  72438156  Aeris Weekend Deals       Social       IG   \n",
       "\n",
       "    device  pagesVisited  timeOnSite  \n",
       "0  desktop             6         598  \n",
       "1   mobile             3         272  \n",
       "2   mobile             3         107  \n",
       "3  desktop             1         319  \n",
       "4   mobile             6         485  "
      ]
     },
     "execution_count": 25,
     "metadata": {},
     "output_type": "execute_result"
    }
   ],
   "source": [
    "website_df.head()"
   ]
  },
  {
   "cell_type": "markdown",
   "id": "45f1ffb6",
   "metadata": {},
   "source": [
    "### Summary Statistics "
   ]
  },
  {
   "cell_type": "code",
   "execution_count": 26,
   "id": "7970db80",
   "metadata": {},
   "outputs": [
    {
     "data": {
      "text/html": [
       "<div>\n",
       "<style scoped>\n",
       "    .dataframe tbody tr th:only-of-type {\n",
       "        vertical-align: middle;\n",
       "    }\n",
       "\n",
       "    .dataframe tbody tr th {\n",
       "        vertical-align: top;\n",
       "    }\n",
       "\n",
       "    .dataframe thead th {\n",
       "        text-align: right;\n",
       "    }\n",
       "</style>\n",
       "<table border=\"1\" class=\"dataframe\">\n",
       "  <thead>\n",
       "    <tr style=\"text-align: right;\">\n",
       "      <th></th>\n",
       "      <th>date</th>\n",
       "      <th>UserID</th>\n",
       "      <th>pagesVisited</th>\n",
       "      <th>timeOnSite</th>\n",
       "    </tr>\n",
       "  </thead>\n",
       "  <tbody>\n",
       "    <tr>\n",
       "      <th>count</th>\n",
       "      <td>2000</td>\n",
       "      <td>2.000000e+03</td>\n",
       "      <td>2000.000000</td>\n",
       "      <td>2000.000000</td>\n",
       "    </tr>\n",
       "    <tr>\n",
       "      <th>mean</th>\n",
       "      <td>2025-01-14 13:50:20.387499776</td>\n",
       "      <td>5.021597e+07</td>\n",
       "      <td>7.454500</td>\n",
       "      <td>371.554500</td>\n",
       "    </tr>\n",
       "    <tr>\n",
       "      <th>min</th>\n",
       "      <td>2025-01-01 00:08:39</td>\n",
       "      <td>1.191500e+04</td>\n",
       "      <td>0.000000</td>\n",
       "      <td>0.000000</td>\n",
       "    </tr>\n",
       "    <tr>\n",
       "      <th>25%</th>\n",
       "      <td>2025-01-07 10:06:32.750000128</td>\n",
       "      <td>2.502535e+07</td>\n",
       "      <td>3.000000</td>\n",
       "      <td>162.750000</td>\n",
       "    </tr>\n",
       "    <tr>\n",
       "      <th>50%</th>\n",
       "      <td>2025-01-14 06:57:05.500000</td>\n",
       "      <td>5.031350e+07</td>\n",
       "      <td>7.000000</td>\n",
       "      <td>368.000000</td>\n",
       "    </tr>\n",
       "    <tr>\n",
       "      <th>75%</th>\n",
       "      <td>2025-01-21 19:18:06.500000</td>\n",
       "      <td>7.489998e+07</td>\n",
       "      <td>11.000000</td>\n",
       "      <td>574.000000</td>\n",
       "    </tr>\n",
       "    <tr>\n",
       "      <th>max</th>\n",
       "      <td>2025-01-28 17:48:55</td>\n",
       "      <td>9.998560e+07</td>\n",
       "      <td>15.000000</td>\n",
       "      <td>870.000000</td>\n",
       "    </tr>\n",
       "    <tr>\n",
       "      <th>std</th>\n",
       "      <td>NaN</td>\n",
       "      <td>2.909333e+07</td>\n",
       "      <td>4.589604</td>\n",
       "      <td>239.290752</td>\n",
       "    </tr>\n",
       "  </tbody>\n",
       "</table>\n",
       "</div>"
      ],
      "text/plain": [
       "                                date        UserID  pagesVisited   timeOnSite\n",
       "count                           2000  2.000000e+03   2000.000000  2000.000000\n",
       "mean   2025-01-14 13:50:20.387499776  5.021597e+07      7.454500   371.554500\n",
       "min              2025-01-01 00:08:39  1.191500e+04      0.000000     0.000000\n",
       "25%    2025-01-07 10:06:32.750000128  2.502535e+07      3.000000   162.750000\n",
       "50%       2025-01-14 06:57:05.500000  5.031350e+07      7.000000   368.000000\n",
       "75%       2025-01-21 19:18:06.500000  7.489998e+07     11.000000   574.000000\n",
       "max              2025-01-28 17:48:55  9.998560e+07     15.000000   870.000000\n",
       "std                              NaN  2.909333e+07      4.589604   239.290752"
      ]
     },
     "execution_count": 26,
     "metadata": {},
     "output_type": "execute_result"
    }
   ],
   "source": [
    "summary_statistics = website_df.describe()\n",
    "summary_statistics"
   ]
  },
  {
   "cell_type": "markdown",
   "id": "407913ea",
   "metadata": {},
   "source": [
    "### Duplicate Entries"
   ]
  },
  {
   "cell_type": "code",
   "execution_count": 27,
   "id": "5d8b50ab",
   "metadata": {},
   "outputs": [
    {
     "data": {
      "text/plain": [
       "0"
      ]
     },
     "execution_count": 27,
     "metadata": {},
     "output_type": "execute_result"
    }
   ],
   "source": [
    "duplicated_entries = website_df.duplicated().sum()\n",
    "duplicated_entries\n"
   ]
  },
  {
   "cell_type": "markdown",
   "id": "2737add1",
   "metadata": {},
   "source": [
    "### Missing Values"
   ]
  },
  {
   "cell_type": "code",
   "execution_count": 28,
   "id": "63cd0a4e",
   "metadata": {},
   "outputs": [
    {
     "data": {
      "text/plain": [
       "date             0\n",
       "UserID           0\n",
       "Campaign Name    0\n",
       "source           0\n",
       "platform         0\n",
       "device           0\n",
       "pagesVisited     0\n",
       "timeOnSite       0\n",
       "dtype: int64"
      ]
     },
     "execution_count": 28,
     "metadata": {},
     "output_type": "execute_result"
    }
   ],
   "source": [
    "missing_values = website_df.isnull().sum()\n",
    "missing_values"
   ]
  },
  {
   "cell_type": "markdown",
   "id": "28d1d03c",
   "metadata": {},
   "source": [
    "### Plot distribution of pages visited\n"
   ]
  },
  {
   "cell_type": "code",
   "execution_count": 29,
   "id": "b2dbb06d",
   "metadata": {},
   "outputs": [
    {
     "data": {
      "image/png": "[encoded data removed]",
      "text/plain": [
       "<Figure size 1000x800 with 1 Axes>"
      ]
     },
     "metadata": {},
     "output_type": "display_data"
    }
   ],
   "source": [
    "plt.figure(figsize=(10,8))\n",
    "sns.histplot(website_df[\"pagesVisited\"], bins=15, color=\"salmon\")\n",
    "plt.xlabel(\"Pages Vistied\")\n",
    "plt.ylabel(\"Frequency\")\n",
    "plt.show()"
   ]
  },
  {
   "cell_type": "markdown",
   "id": "76b8c696",
   "metadata": {},
   "source": [
    "### Time on Site Distribution"
   ]
  },
  {
   "cell_type": "code",
   "execution_count": 30,
   "id": "1086f350",
   "metadata": {},
   "outputs": [
    {
     "data": {
      "image/png": "[encoded data removed]",
      "text/plain": [
       "<Figure size 800x600 with 1 Axes>"
      ]
     },
     "metadata": {},
     "output_type": "display_data"
    }
   ],
   "source": [
    "plt.figure(figsize=(8,6))\n",
    "sns.histplot(website_df[\"timeOnSite\"], bins=20, color=\"Teal\")\n",
    "plt.xlabel(\"Time on Site (seconds)\")\n",
    "plt.ylabel(\"Frequency\")\n",
    "plt.title(\"Distribution of Time Spent on the site\")\n",
    "plt.show()"
   ]
  },
  {
   "cell_type": "markdown",
   "id": "32d90a2b",
   "metadata": {},
   "source": [
    "Pages Visited Distribution:\n",
    "    \n",
    "1. Most users visit between 3 to 11 pages.\n",
    "2. A small number of users visit either very few (close to 0) or the maximum of 15 pages.\n",
    "\n",
    "Time on Site Distribution:\n",
    "\n",
    "1. Majority of users spend under 600 seconds (10 minutes).\n",
    "2. There are some users with extremely short sessions (close to 0 seconds).\n",
    "3. The distribution shows a peak between 200 to 400 seconds (~3-6 minutes).\n"
   ]
  },
  {
   "cell_type": "markdown",
   "id": "b191a647",
   "metadata": {},
   "source": [
    "### Distribution of Traffic Sources"
   ]
  },
  {
   "cell_type": "code",
   "execution_count": 32,
   "id": "72d13987",
   "metadata": {},
   "outputs": [
    {
     "data": {
      "text/plain": [
       "source\n",
       "Paid Search    683\n",
       "Email          670\n",
       "Social         647\n",
       "Name: count, dtype: int64"
      ]
     },
     "execution_count": 32,
     "metadata": {},
     "output_type": "execute_result"
    }
   ],
   "source": [
    "traffic_source_analysis = website_df['source'].value_counts()\n",
    "traffic_source_analysis"
   ]
  },
  {
   "cell_type": "code",
   "execution_count": 39,
   "id": "9af829b0",
   "metadata": {},
   "outputs": [
    {
     "data": {
      "image/png": "[encoded data removed]",
      "text/plain": [
       "<Figure size 800x500 with 1 Axes>"
      ]
     },
     "metadata": {},
     "output_type": "display_data"
    }
   ],
   "source": [
    "plt.figure(figsize=(8,5))\n",
    "traffic_source_analysis.plot(kind=\"bar\", color=\"purple\")\n",
    "plt.xlabel(\"Traffic Sources\")\n",
    "plt.ylabel(\"Number of Sources\")\n",
    "plt.title(\"Traffic Source Distribution\")\n",
    "plt.xticks(rotation=0)\n",
    "plt.show()\n",
    "                "
   ]
  },
  {
   "cell_type": "code",
   "execution_count": null,
   "id": "cdfcb88e",
   "metadata": {},
   "outputs": [],
   "source": [
    "plt.figure(figsize=(8, 5))\n",
    "traffic_source_analysis.plot(kind=\"bar\", color=\"skyblue\", edgecolor=\"black\")\n",
    "plt.xlabel(\"Traffic Source\")\n",
    "plt.ylabel(\"Number of Users\")\n",
    "plt.title(\"Traffic Source Distribution\")\n",
    "plt.xticks(rotation=45)\n",
    "plt.show()\n"
   ]
  },
  {
   "cell_type": "markdown",
   "id": "5d084df5",
   "metadata": {},
   "source": [
    "### Analyze the impact of device type on engagement"
   ]
  },
  {
   "cell_type": "code",
   "execution_count": 45,
   "id": "200867e1",
   "metadata": {},
   "outputs": [
    {
     "data": {
      "text/html": [
       "<div>\n",
       "<style scoped>\n",
       "    .dataframe tbody tr th:only-of-type {\n",
       "        vertical-align: middle;\n",
       "    }\n",
       "\n",
       "    .dataframe tbody tr th {\n",
       "        vertical-align: top;\n",
       "    }\n",
       "\n",
       "    .dataframe thead th {\n",
       "        text-align: right;\n",
       "    }\n",
       "</style>\n",
       "<table border=\"1\" class=\"dataframe\">\n",
       "  <thead>\n",
       "    <tr style=\"text-align: right;\">\n",
       "      <th></th>\n",
       "      <th>avg_pages_visited</th>\n",
       "      <th>avg_time_on_site</th>\n",
       "      <th>user_count</th>\n",
       "    </tr>\n",
       "    <tr>\n",
       "      <th>device</th>\n",
       "      <th></th>\n",
       "      <th></th>\n",
       "      <th></th>\n",
       "    </tr>\n",
       "  </thead>\n",
       "  <tbody>\n",
       "    <tr>\n",
       "      <th>mobile</th>\n",
       "      <td>7.671968</td>\n",
       "      <td>378.642147</td>\n",
       "      <td>1006</td>\n",
       "    </tr>\n",
       "    <tr>\n",
       "      <th>desktop</th>\n",
       "      <td>7.234406</td>\n",
       "      <td>364.381288</td>\n",
       "      <td>994</td>\n",
       "    </tr>\n",
       "  </tbody>\n",
       "</table>\n",
       "</div>"
      ],
      "text/plain": [
       "         avg_pages_visited  avg_time_on_site  user_count\n",
       "device                                                  \n",
       "mobile            7.671968        378.642147        1006\n",
       "desktop           7.234406        364.381288         994"
      ]
     },
     "execution_count": 45,
     "metadata": {},
     "output_type": "execute_result"
    }
   ],
   "source": [
    "device_engagement = website_df.groupby(\"device\").agg(\n",
    "    avg_pages_visited=(\"pagesVisited\", \"mean\"),\n",
    "    avg_time_on_site=(\"timeOnSite\", \"mean\"),\n",
    "    user_count=(\"UserID\", \"count\")\n",
    ").sort_values(by=\"avg_time_on_site\", ascending=False)\n",
    "\n",
    "device_engagement\n"
   ]
  },
  {
   "cell_type": "code",
   "execution_count": 47,
   "id": "0ff2d0a4",
   "metadata": {},
   "outputs": [
    {
     "data": {
      "image/png": "[encoded data removed]",
      "text/plain": [
       "<Figure size 800x500 with 1 Axes>"
      ]
     },
     "metadata": {},
     "output_type": "display_data"
    }
   ],
   "source": [
    "device_engagement.plot(kind=\"bar\", figsize=(8,5), edgecolor=\"black\")\n",
    "plt.xlabel(\"Device Type\")\n",
    "plt.ylabel(\"Metrics\")\n",
    "plt.title(\"Device Engagement Analysis\")\n",
    "plt.xticks(rotation=0)\n",
    "plt.legend([\"Avg Pages Visited\", \"Avg Time On Site\", \"User Count\"])\n",
    "plt.show()"
   ]
  },
  {
   "cell_type": "markdown",
   "id": "ffbf8ba1",
   "metadata": {},
   "source": [
    "### Analyze platform performance"
   ]
  },
  {
   "cell_type": "code",
   "execution_count": 52,
   "id": "b32395c1",
   "metadata": {},
   "outputs": [
    {
     "data": {
      "text/html": [
       "<div>\n",
       "<style scoped>\n",
       "    .dataframe tbody tr th:only-of-type {\n",
       "        vertical-align: middle;\n",
       "    }\n",
       "\n",
       "    .dataframe tbody tr th {\n",
       "        vertical-align: top;\n",
       "    }\n",
       "\n",
       "    .dataframe thead th {\n",
       "        text-align: right;\n",
       "    }\n",
       "</style>\n",
       "<table border=\"1\" class=\"dataframe\">\n",
       "  <thead>\n",
       "    <tr style=\"text-align: right;\">\n",
       "      <th></th>\n",
       "      <th>avg_pages_visited</th>\n",
       "      <th>avg_time_on_site</th>\n",
       "      <th>user_count</th>\n",
       "    </tr>\n",
       "    <tr>\n",
       "      <th>platform</th>\n",
       "      <th></th>\n",
       "      <th></th>\n",
       "      <th></th>\n",
       "    </tr>\n",
       "  </thead>\n",
       "  <tbody>\n",
       "    <tr>\n",
       "      <th>Bing</th>\n",
       "      <td>7.599369</td>\n",
       "      <td>383.012618</td>\n",
       "      <td>317</td>\n",
       "    </tr>\n",
       "    <tr>\n",
       "      <th>FB</th>\n",
       "      <td>7.329341</td>\n",
       "      <td>377.311377</td>\n",
       "      <td>334</td>\n",
       "    </tr>\n",
       "    <tr>\n",
       "      <th>IG</th>\n",
       "      <td>7.741214</td>\n",
       "      <td>374.610224</td>\n",
       "      <td>313</td>\n",
       "    </tr>\n",
       "    <tr>\n",
       "      <th>Google</th>\n",
       "      <td>7.404372</td>\n",
       "      <td>366.467213</td>\n",
       "      <td>366</td>\n",
       "    </tr>\n",
       "    <tr>\n",
       "      <th>Email</th>\n",
       "      <td>7.341791</td>\n",
       "      <td>364.614925</td>\n",
       "      <td>670</td>\n",
       "    </tr>\n",
       "  </tbody>\n",
       "</table>\n",
       "</div>"
      ],
      "text/plain": [
       "          avg_pages_visited  avg_time_on_site  user_count\n",
       "platform                                                 \n",
       "Bing               7.599369        383.012618         317\n",
       "FB                 7.329341        377.311377         334\n",
       "IG                 7.741214        374.610224         313\n",
       "Google             7.404372        366.467213         366\n",
       "Email              7.341791        364.614925         670"
      ]
     },
     "execution_count": 52,
     "metadata": {},
     "output_type": "execute_result"
    }
   ],
   "source": [
    "platform_performance = website_df.groupby(\"platform\").agg(\n",
    "    avg_pages_visited=(\"pagesVisited\", \"mean\"),\n",
    "    avg_time_on_site=(\"timeOnSite\", \"mean\"),\n",
    "    user_count=(\"UserID\", \"count\")\n",
    ").sort_values(by=\"avg_time_on_site\", ascending=False)\n",
    "\n",
    "\n",
    "platform_performance"
   ]
  },
  {
   "cell_type": "code",
   "execution_count": 53,
   "id": "dcc3e695",
   "metadata": {},
   "outputs": [
    {
     "data": {
      "image/png": "[encoded data removed]",
      "text/plain": [
       "<Figure size 800x600 with 1 Axes>"
      ]
     },
     "metadata": {},
     "output_type": "display_data"
    }
   ],
   "source": [
    "platform_performance.plot(kind=\"bar\", figsize=(8,6), edgecolor=\"black\")\n",
    "plt.xlabel(\"PLatforms\")\n",
    "plt.ylabel(\"Metrics\")\n",
    "plt.title(\"Platform Performance Analysis\")\n",
    "plt.xticks(rotation=45)\n",
    "plt.legend([\"Avg Pages Visited\", \"Avg Time on Site\", \"Avg User count\"])\n",
    "plt.show()"
   ]
  },
  {
   "cell_type": "markdown",
   "id": "a55862c0",
   "metadata": {},
   "source": [
    "### Time-Based Analysis "
   ]
  },
  {
   "cell_type": "code",
   "execution_count": 55,
   "id": "1e6084e9",
   "metadata": {},
   "outputs": [],
   "source": [
    "# Extract date and hour for time-based analysis\n",
    "\n",
    "website_df[\"date_only\"] = website_df[\"date\"].dt.date\n",
    "website_df[\"hour\"] = website_df[\"date\"].dt.hour"
   ]
  },
  {
   "cell_type": "code",
   "execution_count": 57,
   "id": "7a48a159",
   "metadata": {},
   "outputs": [
    {
     "data": {
      "text/html": [
       "<div>\n",
       "<style scoped>\n",
       "    .dataframe tbody tr th:only-of-type {\n",
       "        vertical-align: middle;\n",
       "    }\n",
       "\n",
       "    .dataframe tbody tr th {\n",
       "        vertical-align: top;\n",
       "    }\n",
       "\n",
       "    .dataframe thead th {\n",
       "        text-align: right;\n",
       "    }\n",
       "</style>\n",
       "<table border=\"1\" class=\"dataframe\">\n",
       "  <thead>\n",
       "    <tr style=\"text-align: right;\">\n",
       "      <th></th>\n",
       "      <th>avg_pages_visited</th>\n",
       "      <th>avg_time_on_site</th>\n",
       "      <th>user_count</th>\n",
       "    </tr>\n",
       "    <tr>\n",
       "      <th>date_only</th>\n",
       "      <th></th>\n",
       "      <th></th>\n",
       "      <th></th>\n",
       "    </tr>\n",
       "  </thead>\n",
       "  <tbody>\n",
       "    <tr>\n",
       "      <th>2025-01-01</th>\n",
       "      <td>6.470588</td>\n",
       "      <td>366.544118</td>\n",
       "      <td>68</td>\n",
       "    </tr>\n",
       "    <tr>\n",
       "      <th>2025-01-02</th>\n",
       "      <td>7.974359</td>\n",
       "      <td>378.000000</td>\n",
       "      <td>78</td>\n",
       "    </tr>\n",
       "    <tr>\n",
       "      <th>2025-01-03</th>\n",
       "      <td>7.500000</td>\n",
       "      <td>342.329268</td>\n",
       "      <td>82</td>\n",
       "    </tr>\n",
       "    <tr>\n",
       "      <th>2025-01-04</th>\n",
       "      <td>7.678571</td>\n",
       "      <td>376.880952</td>\n",
       "      <td>84</td>\n",
       "    </tr>\n",
       "  </tbody>\n",
       "</table>\n",
       "</div>"
      ],
      "text/plain": [
       "            avg_pages_visited  avg_time_on_site  user_count\n",
       "date_only                                                  \n",
       "2025-01-01           6.470588        366.544118          68\n",
       "2025-01-02           7.974359        378.000000          78\n",
       "2025-01-03           7.500000        342.329268          82\n",
       "2025-01-04           7.678571        376.880952          84"
      ]
     },
     "execution_count": 57,
     "metadata": {},
     "output_type": "execute_result"
    }
   ],
   "source": [
    "#Analyzing Daily Trends\n",
    "\n",
    "daily_trends = website_df.groupby(\"date_only\").agg(\n",
    "    avg_pages_visited=(\"pagesVisited\", \"mean\"), \n",
    "    avg_time_on_site=(\"timeOnSite\", \"mean\"), \n",
    "    user_count=(\"UserID\", \"count\")\n",
    ")\n",
    "\n",
    "daily_trends.head(4)"
   ]
  },
  {
   "cell_type": "code",
   "execution_count": 59,
   "id": "fd6edcc9",
   "metadata": {},
   "outputs": [],
   "source": [
    "## Analyze hourly trends\n",
    "\n",
    "hourly_trends = website_df.groupby(\"hour\").agg(\n",
    "    avg_pages_visited=(\"pagesVisited\", \"mean\"), \n",
    "    avg_time_on_site=(\"timeOnSite\", \"mean\"), \n",
    "    user_count=(\"UserID\", \"count\")\n",
    ")"
   ]
  },
  {
   "cell_type": "code",
   "execution_count": 62,
   "id": "d7c2e856",
   "metadata": {},
   "outputs": [
    {
     "data": {
      "text/html": [
       "<div>\n",
       "<style scoped>\n",
       "    .dataframe tbody tr th:only-of-type {\n",
       "        vertical-align: middle;\n",
       "    }\n",
       "\n",
       "    .dataframe tbody tr th {\n",
       "        vertical-align: top;\n",
       "    }\n",
       "\n",
       "    .dataframe thead th {\n",
       "        text-align: right;\n",
       "    }\n",
       "</style>\n",
       "<table border=\"1\" class=\"dataframe\">\n",
       "  <thead>\n",
       "    <tr style=\"text-align: right;\">\n",
       "      <th></th>\n",
       "      <th>avg_pages_visited</th>\n",
       "      <th>avg_time_on_site</th>\n",
       "      <th>user_count</th>\n",
       "    </tr>\n",
       "    <tr>\n",
       "      <th>hour</th>\n",
       "      <th></th>\n",
       "      <th></th>\n",
       "      <th></th>\n",
       "    </tr>\n",
       "  </thead>\n",
       "  <tbody>\n",
       "    <tr>\n",
       "      <th>0</th>\n",
       "      <td>6.848837</td>\n",
       "      <td>354.802326</td>\n",
       "      <td>86</td>\n",
       "    </tr>\n",
       "    <tr>\n",
       "      <th>1</th>\n",
       "      <td>7.634921</td>\n",
       "      <td>358.555556</td>\n",
       "      <td>63</td>\n",
       "    </tr>\n",
       "  </tbody>\n",
       "</table>\n",
       "</div>"
      ],
      "text/plain": [
       "      avg_pages_visited  avg_time_on_site  user_count\n",
       "hour                                                 \n",
       "0              6.848837        354.802326          86\n",
       "1              7.634921        358.555556          63"
      ]
     },
     "execution_count": 62,
     "metadata": {},
     "output_type": "execute_result"
    }
   ],
   "source": [
    "# Analyze hourly trends\n",
    "hourly_trends = website_df.groupby(\"hour\").agg(\n",
    "    avg_pages_visited=(\"pagesVisited\", \"mean\"),\n",
    "    avg_time_on_site=(\"timeOnSite\", \"mean\"),\n",
    "    user_count=(\"UserID\", \"count\")\n",
    ")\n",
    "    \n",
    "hourly_trends.head(2)"
   ]
  },
  {
   "cell_type": "code",
   "execution_count": null,
   "id": "5c79c7d4",
   "metadata": {},
   "outputs": [],
   "source": []
  },
  {
   "cell_type": "code",
   "execution_count": null,
   "id": "ea7c243b",
   "metadata": {},
   "outputs": [],
   "source": []
  },
  {
   "cell_type": "code",
   "execution_count": null,
   "id": "7b0afd2c",
   "metadata": {},
   "outputs": [],
   "source": []
  }
 ],
 "metadata": {
  "kernelspec": {
   "display_name": "Python 3 (ipykernel)",
   "language": "python",
   "name": "python3"
  },
  "language_info": {
   "codemirror_mode": {
    "name": "ipython",
    "version": 3
   },
   "file_extension": ".py",
   "mimetype": "text/x-python",
   "name": "python",
   "nbconvert_exporter": "python",
   "pygments_lexer": "ipython3",
   "version": "3.11.5"
  }
 },
 "nbformat": 4,
 "nbformat_minor": 5
}
