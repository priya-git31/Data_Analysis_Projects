{
 "cells": [
  {
   "cell_type": "markdown",
   "id": "7da9bae0",
   "metadata": {},
   "source": [
    "# Simple Linear Regression Project"
   ]
  },
  {
   "cell_type": "markdown",
   "id": "aea92476",
   "metadata": {},
   "source": [
    "## Modelling the linear relationship between Sales and Advertising dataset"
   ]
  },
  {
   "cell_type": "markdown",
   "id": "5f016385",
   "metadata": {},
   "source": [
    "### Project overview\n"
   ]
  },
  {
   "cell_type": "markdown",
   "id": "62a470b8",
   "metadata": {},
   "source": [
    "In this project, I build a Simple Linear Regression model to study the linear relationship between Sales and Advertising dataset for a dietary weight control product."
   ]
  },
  {
   "cell_type": "markdown",
   "id": "84e5ed1f",
   "metadata": {},
   "source": [
    "### Linear Regression"
   ]
  },
  {
   "cell_type": "markdown",
   "id": "ead0bda8",
   "metadata": {},
   "source": [
    "Linear Regression is a statistical technique which is used to find the linear relationship between dependent and one or more independent variables. \n",
    "This technique is applicable for Supervised learning Regression problems where we try to predict a continuous variable.\n",
    "\n",
    "Linear Regression can be further classified into two types – Simple and Multiple Linear Regression. \n",
    "In this project, I employ Simple Linear Regression technique where I have one independent and one dependent variable. It is the simplest form of Linear Regression where we fit a straight line to the data."
   ]
  },
  {
   "cell_type": "markdown",
   "id": "a30e0a2a",
   "metadata": {},
   "source": [
    "### Simple Linear Regression (SLR)"
   ]
  },
  {
   "cell_type": "markdown",
   "id": "3070d89f",
   "metadata": {},
   "source": [
    "Simple Linear Regression (or SLR) is the simplest model in machine learning. It models the linear relationship between the independent and dependent variables.\n",
    "\n",
    "In this project, there is one independent or input variable which represents the Sales data and is denoted by X. Similarly, there is one dependent or output variable which represents the Advertising data and is denoted by y. We want to build a linear relationship between these variables. This linear relationship can be modelled by mathematical equation of the form:- Y = β0 + β1*X ------------- (1)\n",
    "\n",
    "In this equation, X and Y are called independent and dependent variables respectively,\n",
    "\n",
    "β1 is the coefficient for independent variable and\n",
    "\n",
    "β0 is the constant term.\n",
    "\n",
    "β0 and β1 are called parameters of the model.\n",
    "\n",
    "For simplicity, we can compare the above equation with the basic line equation of the form:-\n",
    "\n",
    "               y = ax + b       ----------------- (2)\n",
    "We can see that\n",
    "\n",
    "slope of the line is given by, a = β1, and\n",
    "\n",
    "intercept of the line by b = β0.\n",
    "\n",
    "In this Simple Linear Regression model, we want to fit a line which estimates the linear relationship between X and Y. So, the question of fitting reduces to estimating the parameters of the model β0 and β1."
   ]
  },
  {
   "cell_type": "markdown",
   "id": "72932fca",
   "metadata": {},
   "source": [
    "### Ordinary Least Square Method"
   ]
  },
  {
   "cell_type": "markdown",
   "id": "7965ce63",
   "metadata": {},
   "source": [
    "As I have described earlier, the Sales and Advertising data are given by X and y respectively. We can draw a scatter plot between X and y which shows the relationship between them.\n",
    "\n",
    "Now, our task is to find a line which best fits this scatter plot. This line will help us to predict the value of any Target variable for any given Feature variable. This line is called Regression line.\n",
    "\n",
    "We can define an error function for any line. Then, the regression line is the one which minimizes the error function. Such an error function is also called a Cost function.\n",
    "\n"
   ]
  },
  {
   "cell_type": "markdown",
   "id": "c3becf86",
   "metadata": {},
   "source": [
    "### Cost Function\n"
   ]
  },
  {
   "cell_type": "markdown",
   "id": "6f7604cd",
   "metadata": {},
   "source": [
    "We want the Regression line to resemble the dataset as closely as possible. In other words, we want the line to be as close to actual data points as possible. It can be achieved by minimizing the vertical distance between the actual data point and fitted line. I calculate the vertical distance between each data point and the line. This distance is called the residual.\n",
    "\n",
    "So, in a regression model, we try to minimize the residuals by finding the line of best fit. The residuals are represented by the vertical dotted lines from actual data points to the line.\n",
    "\n",
    "We can try to minimize the sum of the residuals, but then a large positive residual would cancel out a large negative residual. For this reason, we minimize the sum of the squares of the residuals.\n",
    "\n",
    "Mathematically, we denote actual data points by yi and predicted data points by ŷi. So, the residual for a data point i would be given as di = yi - ŷi\n",
    "\n",
    "Sum of the squares of the residuals is given as:\n",
    "\n",
    "\t\t\tD = Ʃ di**2       for all data points\n",
    "            \n",
    "This is the Cost function. It denotes the total error present in the model which is the sum of the total errors of each individual data point.\n",
    "\n",
    "We can estimate the parameters of the model β0 and β1 by minimize the error in the model by minimizing D. Thus, we can find the regression line given by equation (1).\n",
    "\n",
    "This method of finding the parameters of the model and thus regression line is called Ordinary Least Square Method."
   ]
  },
  {
   "cell_type": "markdown",
   "id": "9c97a31d",
   "metadata": {},
   "source": [
    "### The problem statement\n"
   ]
  },
  {
   "cell_type": "markdown",
   "id": "3d467547",
   "metadata": {},
   "source": [
    "The aim of building a machine learning model is to solve a problem and to define a metric to measure model performance.\n",
    "\n",
    "The problem is to model and investigate the linear relationship between Sales and Advertising dataset for a dietary weight control product.\n",
    "\n",
    "I have used two performance metrics RMSE (Root Mean Square Value) and R2 Score value to compute our model performance."
   ]
  },
  {
   "cell_type": "markdown",
   "id": "b37e759a",
   "metadata": {},
   "source": [
    "### Software information\n"
   ]
  },
  {
   "cell_type": "markdown",
   "id": "22bccf29",
   "metadata": {},
   "source": [
    "I did this project using Jupyter notebook (Jupyter notebook server 5.5.0).\n",
    "\n",
    "The server is running on Python (Python 3.6.5), Anaconda distribution."
   ]
  },
  {
   "cell_type": "markdown",
   "id": "ac48f88e",
   "metadata": {},
   "source": [
    "### Python libraries\n"
   ]
  },
  {
   "cell_type": "markdown",
   "id": "056a74a4",
   "metadata": {},
   "source": [
    "I have Anaconda Python distribution installed on my system. It comes with most of the standard Python libraries I need for this project. The basic Python libraries used in this project are:-\n",
    "\n",
    "• Numpy – It provides a fast numerical array structure and operating functions.\n",
    "\n",
    "• pandas – It provides tools for data storage, manipulation and analysis tasks.\n",
    "\n",
    "• Scikit-Learn – The required machine learning library in Python.\n",
    "\n",
    "• Matplotlib – It is the basic plotting library in Python. It provides tools for making plots."
   ]
  },
  {
   "cell_type": "code",
   "execution_count": 21,
   "id": "60b985ea",
   "metadata": {},
   "outputs": [],
   "source": [
    "#Import Necessary Libararies \n",
    "\n",
    "import numpy as np\n",
    "import pandas as pd\n",
    "import matplotlib.pyplot as plt\n"
   ]
  },
  {
   "cell_type": "code",
   "execution_count": 22,
   "id": "e7c93b11",
   "metadata": {},
   "outputs": [
    {
     "ename": "SyntaxError",
     "evalue": "invalid syntax (335802233.py, line 1)",
     "output_type": "error",
     "traceback": [
      "\u001b[0;36m  Cell \u001b[0;32mIn[22], line 1\u001b[0;36m\u001b[0m\n\u001b[0;31m    About the dataset\u001b[0m\n\u001b[0m          ^\u001b[0m\n\u001b[0;31mSyntaxError\u001b[0m\u001b[0;31m:\u001b[0m invalid syntax\n"
     ]
    }
   ],
   "source": [
    "About the dataset\n"
   ]
  },
  {
   "cell_type": "markdown",
   "id": "fe654031",
   "metadata": {},
   "source": [
    "The data set has been imported from the econometrics website with the following url:-\n",
    "\n",
    "http://www.econometrics.com/intro/sales.htm\n",
    "\n",
    "This data set contains Sales and Advertising expenditures for a dietary weight control product. It contains monthly data for 36 months. The variables in this data set are Sales and Advertising."
   ]
  },
  {
   "cell_type": "code",
   "execution_count": 24,
   "id": "5bbe7a86",
   "metadata": {},
   "outputs": [],
   "source": [
    "# Import the data\n",
    "\n",
    "import pandas as pd\n",
    "\n",
    "# Creating the dataset manually\n",
    "data = {\n",
    "    \"Column1\": [12.0, 20.5, 21.0, 15.5, 15.3, 23.5, 24.5, 21.3, 23.5, 28.0,\n",
    "                24.0, 15.5, 17.3, 25.3, 25.0, 36.5, 36.5, 29.6, 30.5, 28.0,\n",
    "                26.0, 21.5, 19.7, 19.0, 16.0, 20.7, 26.5, 30.6, 32.3, 29.5,\n",
    "                28.3, 31.3, 32.3, 26.4, 23.4, 16.4],\n",
    "    \n",
    "    \"Column2\": [15.0, 16.0, 18.0, 27.0, 21.0, 49.0, 21.0, 22.0, 28.0, 36.0,\n",
    "                40.0, 3.0, 21.0, 29.0, 62.0, 65.0, 46.0, 44.0, 33.0, 62.0,\n",
    "                22.0, 12.0, 24.0, 3.0, 5.0, 14.0, 36.0, 40.0, 49.0, 7.0,\n",
    "                52.0, 65.0, 17.0, 5.0, 17.0, 1.0]\n",
    "}\n",
    "\n",
    "# Creating DataFrame\n",
    "df = pd.DataFrame(data)\n"
   ]
  },
  {
   "cell_type": "markdown",
   "id": "d27eefc2",
   "metadata": {},
   "source": [
    "Exploratory data analysis\n"
   ]
  },
  {
   "cell_type": "markdown",
   "id": "d5076af7",
   "metadata": {},
   "source": [
    "First, I import the dataset into the dataframe with the standard read_csv () function of pandas library and assign it to the df variable. Then, I conducted exploratory data analysis to get a feel for the data.\n",
    "\n"
   ]
  },
  {
   "cell_type": "markdown",
   "id": "42f4d52f",
   "metadata": {},
   "source": [
    "pandas shape attribute\n"
   ]
  },
  {
   "cell_type": "markdown",
   "id": "b3a327cd",
   "metadata": {},
   "source": [
    "The shape attribute of the pandas dataframe gives the dimensions of the dataframe.\n",
    "\n"
   ]
  },
  {
   "cell_type": "code",
   "execution_count": 25,
   "id": "6fe9bfc5",
   "metadata": {},
   "outputs": [
    {
     "data": {
      "text/plain": [
       "(36, 2)"
      ]
     },
     "execution_count": 25,
     "metadata": {},
     "output_type": "execute_result"
    }
   ],
   "source": [
    "# Exploratory data analysis\n",
    "\n",
    "# View the dimensions of df\n",
    "\n",
    "df.shape"
   ]
  },
  {
   "cell_type": "markdown",
   "id": "047ebfc7",
   "metadata": {},
   "source": [
    "pandas head() method\n"
   ]
  },
  {
   "cell_type": "code",
   "execution_count": 26,
   "id": "9eb7f1c3",
   "metadata": {},
   "outputs": [
    {
     "data": {
      "text/html": [
       "<div>\n",
       "<style scoped>\n",
       "    .dataframe tbody tr th:only-of-type {\n",
       "        vertical-align: middle;\n",
       "    }\n",
       "\n",
       "    .dataframe tbody tr th {\n",
       "        vertical-align: top;\n",
       "    }\n",
       "\n",
       "    .dataframe thead th {\n",
       "        text-align: right;\n",
       "    }\n",
       "</style>\n",
       "<table border=\"1\" class=\"dataframe\">\n",
       "  <thead>\n",
       "    <tr style=\"text-align: right;\">\n",
       "      <th></th>\n",
       "      <th>Column1</th>\n",
       "      <th>Column2</th>\n",
       "    </tr>\n",
       "  </thead>\n",
       "  <tbody>\n",
       "    <tr>\n",
       "      <th>0</th>\n",
       "      <td>12.0</td>\n",
       "      <td>15.0</td>\n",
       "    </tr>\n",
       "    <tr>\n",
       "      <th>1</th>\n",
       "      <td>20.5</td>\n",
       "      <td>16.0</td>\n",
       "    </tr>\n",
       "    <tr>\n",
       "      <th>2</th>\n",
       "      <td>21.0</td>\n",
       "      <td>18.0</td>\n",
       "    </tr>\n",
       "    <tr>\n",
       "      <th>3</th>\n",
       "      <td>15.5</td>\n",
       "      <td>27.0</td>\n",
       "    </tr>\n",
       "    <tr>\n",
       "      <th>4</th>\n",
       "      <td>15.3</td>\n",
       "      <td>21.0</td>\n",
       "    </tr>\n",
       "  </tbody>\n",
       "</table>\n",
       "</div>"
      ],
      "text/plain": [
       "   Column1  Column2\n",
       "0     12.0     15.0\n",
       "1     20.5     16.0\n",
       "2     21.0     18.0\n",
       "3     15.5     27.0\n",
       "4     15.3     21.0"
      ]
     },
     "execution_count": 26,
     "metadata": {},
     "output_type": "execute_result"
    }
   ],
   "source": [
    "# View the top 5 rows of df\n",
    "\n",
    "df.head()\n"
   ]
  },
  {
   "cell_type": "markdown",
   "id": "d71197ff",
   "metadata": {},
   "source": [
    "### pandas columns attribute\n"
   ]
  },
  {
   "cell_type": "code",
   "execution_count": 27,
   "id": "3f576a98",
   "metadata": {},
   "outputs": [
    {
     "data": {
      "text/html": [
       "<div>\n",
       "<style scoped>\n",
       "    .dataframe tbody tr th:only-of-type {\n",
       "        vertical-align: middle;\n",
       "    }\n",
       "\n",
       "    .dataframe tbody tr th {\n",
       "        vertical-align: top;\n",
       "    }\n",
       "\n",
       "    .dataframe thead th {\n",
       "        text-align: right;\n",
       "    }\n",
       "</style>\n",
       "<table border=\"1\" class=\"dataframe\">\n",
       "  <thead>\n",
       "    <tr style=\"text-align: right;\">\n",
       "      <th></th>\n",
       "      <th>Sales</th>\n",
       "      <th>Advertising</th>\n",
       "    </tr>\n",
       "  </thead>\n",
       "  <tbody>\n",
       "    <tr>\n",
       "      <th>0</th>\n",
       "      <td>12.0</td>\n",
       "      <td>15.0</td>\n",
       "    </tr>\n",
       "    <tr>\n",
       "      <th>1</th>\n",
       "      <td>20.5</td>\n",
       "      <td>16.0</td>\n",
       "    </tr>\n",
       "    <tr>\n",
       "      <th>2</th>\n",
       "      <td>21.0</td>\n",
       "      <td>18.0</td>\n",
       "    </tr>\n",
       "    <tr>\n",
       "      <th>3</th>\n",
       "      <td>15.5</td>\n",
       "      <td>27.0</td>\n",
       "    </tr>\n",
       "    <tr>\n",
       "      <th>4</th>\n",
       "      <td>15.3</td>\n",
       "      <td>21.0</td>\n",
       "    </tr>\n",
       "  </tbody>\n",
       "</table>\n",
       "</div>"
      ],
      "text/plain": [
       "   Sales  Advertising\n",
       "0   12.0         15.0\n",
       "1   20.5         16.0\n",
       "2   21.0         18.0\n",
       "3   15.5         27.0\n",
       "4   15.3         21.0"
      ]
     },
     "execution_count": 27,
     "metadata": {},
     "output_type": "execute_result"
    }
   ],
   "source": [
    "# Rename columns of df dataframe\n",
    "\n",
    "df.columns = ['Sales', 'Advertising']\n",
    "df.head()"
   ]
  },
  {
   "cell_type": "markdown",
   "id": "44ad8240",
   "metadata": {},
   "source": [
    "### pandas info() method\n"
   ]
  },
  {
   "cell_type": "code",
   "execution_count": 28,
   "id": "fd9fda6a",
   "metadata": {},
   "outputs": [
    {
     "name": "stdout",
     "output_type": "stream",
     "text": [
      "<class 'pandas.core.frame.DataFrame'>\n",
      "RangeIndex: 36 entries, 0 to 35\n",
      "Data columns (total 2 columns):\n",
      " #   Column       Non-Null Count  Dtype  \n",
      "---  ------       --------------  -----  \n",
      " 0   Sales        36 non-null     float64\n",
      " 1   Advertising  36 non-null     float64\n",
      "dtypes: float64(2)\n",
      "memory usage: 708.0 bytes\n"
     ]
    }
   ],
   "source": [
    "df.info()"
   ]
  },
  {
   "cell_type": "markdown",
   "id": "3a66878e",
   "metadata": {},
   "source": [
    "### pandas describe() method\n"
   ]
  },
  {
   "cell_type": "code",
   "execution_count": 29,
   "id": "ed8bfa00",
   "metadata": {},
   "outputs": [
    {
     "data": {
      "text/html": [
       "<div>\n",
       "<style scoped>\n",
       "    .dataframe tbody tr th:only-of-type {\n",
       "        vertical-align: middle;\n",
       "    }\n",
       "\n",
       "    .dataframe tbody tr th {\n",
       "        vertical-align: top;\n",
       "    }\n",
       "\n",
       "    .dataframe thead th {\n",
       "        text-align: right;\n",
       "    }\n",
       "</style>\n",
       "<table border=\"1\" class=\"dataframe\">\n",
       "  <thead>\n",
       "    <tr style=\"text-align: right;\">\n",
       "      <th></th>\n",
       "      <th>Sales</th>\n",
       "      <th>Advertising</th>\n",
       "    </tr>\n",
       "  </thead>\n",
       "  <tbody>\n",
       "    <tr>\n",
       "      <th>count</th>\n",
       "      <td>36.000000</td>\n",
       "      <td>36.000000</td>\n",
       "    </tr>\n",
       "    <tr>\n",
       "      <th>mean</th>\n",
       "      <td>24.255556</td>\n",
       "      <td>28.527778</td>\n",
       "    </tr>\n",
       "    <tr>\n",
       "      <th>std</th>\n",
       "      <td>6.185118</td>\n",
       "      <td>18.777625</td>\n",
       "    </tr>\n",
       "    <tr>\n",
       "      <th>min</th>\n",
       "      <td>12.000000</td>\n",
       "      <td>1.000000</td>\n",
       "    </tr>\n",
       "    <tr>\n",
       "      <th>25%</th>\n",
       "      <td>20.300000</td>\n",
       "      <td>15.750000</td>\n",
       "    </tr>\n",
       "    <tr>\n",
       "      <th>50%</th>\n",
       "      <td>24.250000</td>\n",
       "      <td>23.000000</td>\n",
       "    </tr>\n",
       "    <tr>\n",
       "      <th>75%</th>\n",
       "      <td>28.600000</td>\n",
       "      <td>41.000000</td>\n",
       "    </tr>\n",
       "    <tr>\n",
       "      <th>max</th>\n",
       "      <td>36.500000</td>\n",
       "      <td>65.000000</td>\n",
       "    </tr>\n",
       "  </tbody>\n",
       "</table>\n",
       "</div>"
      ],
      "text/plain": [
       "           Sales  Advertising\n",
       "count  36.000000    36.000000\n",
       "mean   24.255556    28.527778\n",
       "std     6.185118    18.777625\n",
       "min    12.000000     1.000000\n",
       "25%    20.300000    15.750000\n",
       "50%    24.250000    23.000000\n",
       "75%    28.600000    41.000000\n",
       "max    36.500000    65.000000"
      ]
     },
     "execution_count": 29,
     "metadata": {},
     "output_type": "execute_result"
    }
   ],
   "source": [
    "df.describe()"
   ]
  },
  {
   "cell_type": "markdown",
   "id": "e9880c00",
   "metadata": {},
   "source": [
    "### Independent and Dependent Variables"
   ]
  },
  {
   "cell_type": "markdown",
   "id": "b9def8a7",
   "metadata": {},
   "source": [
    "Independent variable is also called Input variable and is denoted by X. In practical applications, independent variable is also called Feature variable or Predictor variable. We can denote it as:-\n",
    "\n",
    "Independent or Input variable (X) = Feature variable = Predictor variable\n",
    "\n"
   ]
  },
  {
   "cell_type": "markdown",
   "id": "6e694ddc",
   "metadata": {},
   "source": [
    "### Dependent variable\n"
   ]
  },
  {
   "cell_type": "markdown",
   "id": "7dc9e08a",
   "metadata": {},
   "source": [
    "Dependent variable is also called Output variable and is denoted by y.\n",
    "\n",
    "Dependent variable is also called Target variable or Response variable. It can be denoted it as follows:-\n",
    "\n",
    "Dependent or Output variable (y) = Target variable = Response variable\n",
    "\n"
   ]
  },
  {
   "cell_type": "code",
   "execution_count": 31,
   "id": "27c8c07e",
   "metadata": {},
   "outputs": [],
   "source": [
    "# Declare feature variable and target variable\n",
    "\n",
    "X = df['Sales'].values\n",
    "y = df['Advertising'].values\n",
    "\n",
    "# Sales and Advertising data values are given by X and y respectively.\n",
    "\n",
    "# Values attribute of pandas dataframe returns the numpy arrays."
   ]
  },
  {
   "cell_type": "markdown",
   "id": "df79b530",
   "metadata": {},
   "source": [
    "### Visual exploratory data analysis\n",
    "\n",
    "I visualized the relationship between X and y by plotting a scatterplot between X and y.\n",
    "\n"
   ]
  },
  {
   "cell_type": "code",
   "execution_count": 33,
   "id": "c993b478",
   "metadata": {},
   "outputs": [
    {
     "data": {
      "image/png": "[encoded data removed]",
      "text/plain": [
       "<Figure size 640x480 with 1 Axes>"
      ]
     },
     "metadata": {},
     "output_type": "display_data"
    }
   ],
   "source": [
    "# Plot scatter plot between X and y\n",
    "\n",
    "plt.scatter(X, y, color='blue', label='Scatter Plot')\n",
    "plt.title('Relationship between Sales and Advertising')\n",
    "plt.xlabel('Sales')\n",
    "plt.ylabel('Advertising')\n",
    "plt.legend(loc=4)\n",
    "plt.show()\n"
   ]
  },
  {
   "cell_type": "markdown",
   "id": "f700c8cd",
   "metadata": {},
   "source": [
    "### Checking dimensions of X and y\n",
    "\n",
    "We need to check the dimensions of X and y to make sure they are in right format for Scikit-Learn API.\n",
    "\n",
    "It is an important precursor to model building.\n"
   ]
  },
  {
   "cell_type": "code",
   "execution_count": 35,
   "id": "cad3dd67",
   "metadata": {},
   "outputs": [
    {
     "data": {
      "text/plain": [
       "(36,)"
      ]
     },
     "execution_count": 35,
     "metadata": {},
     "output_type": "execute_result"
    }
   ],
   "source": [
    "# Print the dimensions of X and y\n",
    "\n",
    "X.shape"
   ]
  },
  {
   "cell_type": "code",
   "execution_count": 36,
   "id": "c5ee446f",
   "metadata": {},
   "outputs": [
    {
     "data": {
      "text/plain": [
       "(36,)"
      ]
     },
     "execution_count": 36,
     "metadata": {},
     "output_type": "execute_result"
    }
   ],
   "source": [
    "y.shape"
   ]
  },
  {
   "cell_type": "markdown",
   "id": "4e11efda",
   "metadata": {},
   "source": [
    "### Reshaping X and y\n",
    "\n",
    "Since we are working with only one feature variable, so we need to reshape using Numpy reshape() method.\n",
    "\n",
    "It specifies first dimension to be -1, which means \"unspecified\".\n",
    "\n",
    "Its value is inferred from the length of the array and the remaining dimensions."
   ]
  },
  {
   "cell_type": "code",
   "execution_count": 38,
   "id": "65e6f2cf",
   "metadata": {},
   "outputs": [],
   "source": [
    "# Reshape X and y\n",
    "\n",
    "\n",
    "X = X.reshape(-1,1)\n",
    "y = y.reshape(-1,1)"
   ]
  },
  {
   "cell_type": "code",
   "execution_count": 39,
   "id": "eb1959ab",
   "metadata": {},
   "outputs": [
    {
     "data": {
      "text/plain": [
       "(36, 1)"
      ]
     },
     "execution_count": 39,
     "metadata": {},
     "output_type": "execute_result"
    }
   ],
   "source": [
    "# Print the dimensions of X and y after reshaping\n",
    "\n",
    "X.shape "
   ]
  },
  {
   "cell_type": "code",
   "execution_count": 40,
   "id": "955a62a7",
   "metadata": {},
   "outputs": [
    {
     "data": {
      "text/plain": [
       "(36, 1)"
      ]
     },
     "execution_count": 40,
     "metadata": {},
     "output_type": "execute_result"
    }
   ],
   "source": [
    "y.shape"
   ]
  },
  {
   "cell_type": "markdown",
   "id": "b47ec17e",
   "metadata": {},
   "source": [
    "### Difference in dimensions of X and y after reshaping\n",
    "\n",
    "We can see the difference in diminsions of X and y before and after reshaping.\n",
    "\n",
    "It is essential in this case because getting the feature and target variable right is an important precursor to model building.\n",
    "\n"
   ]
  },
  {
   "cell_type": "markdown",
   "id": "bc20a111",
   "metadata": {},
   "source": [
    "### Train test split\n",
    "\n",
    "I split the dataset into two sets namely - train set and test set.\n",
    "\n",
    "The model learn the relationships from the training data and predict on test data."
   ]
  },
  {
   "cell_type": "code",
   "execution_count": 41,
   "id": "888d34a2",
   "metadata": {},
   "outputs": [],
   "source": [
    "# Split X and y into training and test data sets\n",
    "\n",
    "from sklearn.model_selection import train_test_split \n",
    "\n",
    "X_train,X_test,y_train,y_test = train_test_split(X, y, test_size=0.33, random_state=42)\n"
   ]
  },
  {
   "cell_type": "code",
   "execution_count": 42,
   "id": "7c4a1734",
   "metadata": {},
   "outputs": [
    {
     "data": {
      "text/plain": [
       "(24, 1)"
      ]
     },
     "execution_count": 42,
     "metadata": {},
     "output_type": "execute_result"
    }
   ],
   "source": [
    "# Print the dimensions of X_train,X_test,y_train,y_test\n",
    "\n",
    "\n",
    "X_train.shape"
   ]
  },
  {
   "cell_type": "code",
   "execution_count": 43,
   "id": "4d184c77",
   "metadata": {},
   "outputs": [
    {
     "data": {
      "text/plain": [
       "(24, 1)"
      ]
     },
     "execution_count": 43,
     "metadata": {},
     "output_type": "execute_result"
    }
   ],
   "source": [
    "y_train.shape"
   ]
  },
  {
   "cell_type": "code",
   "execution_count": 44,
   "id": "545991eb",
   "metadata": {},
   "outputs": [
    {
     "data": {
      "text/plain": [
       "(12, 1)"
      ]
     },
     "execution_count": 44,
     "metadata": {},
     "output_type": "execute_result"
    }
   ],
   "source": [
    "y_test.shape"
   ]
  },
  {
   "cell_type": "code",
   "execution_count": 46,
   "id": "b874df37",
   "metadata": {},
   "outputs": [
    {
     "data": {
      "text/plain": [
       "(12, 1)"
      ]
     },
     "execution_count": 46,
     "metadata": {},
     "output_type": "execute_result"
    }
   ],
   "source": [
    "X_test.shape"
   ]
  },
  {
   "cell_type": "markdown",
   "id": "c2e80757",
   "metadata": {},
   "source": [
    "### Mechanics of the model\n",
    "\n",
    "I split the dataset into two sets – the training set and the test set. Then, I instantiate the regressor lm and fit it on the training set with the fit method.\n",
    "\n",
    "In this step, the model learned the relationships between the training data (X_train, y_train).\n",
    "\n",
    "Now the model is ready to make predictions on the test data (X_test). Hence, I predict on the test data using the predict method.\n",
    "\n"
   ]
  },
  {
   "cell_type": "code",
   "execution_count": 49,
   "id": "3f6c2fa2",
   "metadata": {},
   "outputs": [],
   "source": [
    "# Fit the linear model\n",
    "\n",
    "# Instantiate the linear regression object lm\n",
    "\n",
    "\n",
    "from sklearn.linear_model import LinearRegression\n",
    "\n",
    "lm = LinearRegression()\n",
    "\n",
    "# Train the model using training data sets\n",
    "lm.fit(X_train, y_train)\n",
    "\n",
    "# Predict on the test data\n",
    "y_pred=lm.predict(X_test)\n"
   ]
  },
  {
   "cell_type": "markdown",
   "id": "02355e51",
   "metadata": {},
   "source": [
    "### Model slope and intercept term\n",
    "\n",
    "The model slope is given by lm.coef_ and model intercept term is given by lm.intercept_.\n",
    "\n",
    "The estimated model slope and intercept values are 1.60509347 and -11.16003616.\n",
    "\n",
    "So, the equation of the fitted regression line is\n",
    "\n",
    "y = 1.60509347 * x - 11.16003616\n",
    "\n"
   ]
  },
  {
   "cell_type": "code",
   "execution_count": 53,
   "id": "e9e799d1",
   "metadata": {},
   "outputs": [],
   "source": [
    "# Compute model slope and intercept\n",
    "\n",
    "a = lm.coef_\n",
    "b = lm.intercept_, \n"
   ]
  },
  {
   "cell_type": "code",
   "execution_count": 57,
   "id": "70edbafd",
   "metadata": {},
   "outputs": [
    {
     "data": {
      "text/plain": [
       "array([[1.60509347]])"
      ]
     },
     "execution_count": 57,
     "metadata": {},
     "output_type": "execute_result"
    }
   ],
   "source": [
    "a"
   ]
  },
  {
   "cell_type": "code",
   "execution_count": 58,
   "id": "28eace93",
   "metadata": {},
   "outputs": [
    {
     "data": {
      "text/plain": [
       "(array([-11.16003616]),)"
      ]
     },
     "execution_count": 58,
     "metadata": {},
     "output_type": "execute_result"
    }
   ],
   "source": [
    "b "
   ]
  },
  {
   "cell_type": "markdown",
   "id": "0aee4f94",
   "metadata": {},
   "source": [
    "Estimated model slope, a: [[1.60509347]]\n",
    "\n",
    "Estimated model intercept, b: (array([-11.16003616]),)"
   ]
  },
  {
   "cell_type": "code",
   "execution_count": 59,
   "id": "ca0cf55f",
   "metadata": {},
   "outputs": [],
   "source": [
    "# So, our fitted regression line is \n",
    "\n",
    "# y = 1.60509347 * x - 11.16003616 \n",
    "\n",
    "# That is our linear model."
   ]
  },
  {
   "cell_type": "markdown",
   "id": "065bf3b8",
   "metadata": {},
   "source": [
    "### Making predictions\n",
    "\n",
    "\n",
    "have predicted the Advertising values on first five 5 Sales datasets by writing code\n",
    "\n",
    "\tlm.predict(X) [0:5]  \n",
    "    \n",
    "If I remove [0:5], then I will get predicted Advertising values for the whole Sales dataset.\n",
    "\n",
    "To make prediction, on an individual Sales value, I write\n",
    "\n",
    "\tlm.predict(Xi)"
   ]
  },
  {
   "cell_type": "code",
   "execution_count": 60,
   "id": "9aa406f9",
   "metadata": {},
   "outputs": [
    {
     "data": {
      "text/plain": [
       "array([[ 8.10108551],\n",
       "       [21.74438002],\n",
       "       [22.54692675],\n",
       "       [13.71891266],\n",
       "       [13.39789396]])"
      ]
     },
     "execution_count": 60,
     "metadata": {},
     "output_type": "execute_result"
    }
   ],
   "source": [
    "# Predicting Advertising values\n",
    "\n",
    "lm.predict(X)[0:5]\n",
    "\n",
    "# Predicting Advertising values on first five Sales values."
   ]
  },
  {
   "cell_type": "code",
   "execution_count": 64,
   "id": "78a697dc",
   "metadata": {},
   "outputs": [
    {
     "data": {
      "text/plain": [
       "array([[27.36220717]])"
      ]
     },
     "execution_count": 64,
     "metadata": {},
     "output_type": "execute_result"
    }
   ],
   "source": [
    "# To make an individual prediction using the linear regression model.\n",
    "\n",
    "lm.predict(np.array([[24]])) \n"
   ]
  },
  {
   "cell_type": "markdown",
   "id": "f23ad117",
   "metadata": {},
   "source": [
    "### Regression metrics for model performance\n",
    "\n",
    "Now, it is the time to evaluate model performance.\n",
    "\n",
    "For regression problems, there are two ways to compute the model performance. They are RMSE (Root Mean Square Error) and R-Squared Value. These are explained below:-"
   ]
  },
  {
   "cell_type": "markdown",
   "id": "25897763",
   "metadata": {},
   "source": [
    "### RMSE\n",
    "\n",
    "RMSE is the standard deviation of the residuals. So, RMSE gives us the standard deviation of the unexplained variance by the model. It can be calculated by taking square root of Mean Squared Error. RMSE is an absolute measure of fit. It gives us how spread the residuals are, given by the standard deviation of the residuals. The more concentrated the data is around the regression line, the lower the residuals and hence lower the standard deviation of residuals. It results in lower values of RMSE. So, lower values of RMSE indicate better fit of data."
   ]
  },
  {
   "cell_type": "code",
   "execution_count": 65,
   "id": "e4996eb7",
   "metadata": {},
   "outputs": [
    {
     "data": {
      "text/plain": [
       "126.05138710556527"
      ]
     },
     "execution_count": 65,
     "metadata": {},
     "output_type": "execute_result"
    }
   ],
   "source": [
    "# Calculate and print Root Mean Square Error(RMSE)\n",
    "\n",
    "from sklearn.metrics import mean_squared_error \n",
    "\n",
    "mse = mean_squared_error(y_test, y_pred)\n",
    "rmse = np.sqrt(mse)\n",
    "\n",
    "mse"
   ]
  },
  {
   "cell_type": "code",
   "execution_count": 66,
   "id": "22311c48",
   "metadata": {},
   "outputs": [
    {
     "data": {
      "text/plain": [
       "11.227260890598618"
      ]
     },
     "execution_count": 66,
     "metadata": {},
     "output_type": "execute_result"
    }
   ],
   "source": [
    "rmse"
   ]
  },
  {
   "cell_type": "markdown",
   "id": "5feed911",
   "metadata": {},
   "source": [
    "### R2 Score\n",
    "\n",
    "R2 Score is another metric to evaluate performance of a regression model. It is also called coefficient of determination. It gives us an idea of goodness of fit for the linear regression models. It indicates the percentage of variance that is explained by the model.\n",
    "\n",
    "Mathematically,\n",
    "\n",
    "R2 Score = Explained Variation/Total Variation\n",
    "\n",
    "In general, the higher the R2 Score value, the better the model fits the data. Usually, its value ranges from 0 to 1. So, we want its value to be as close to 1. Its value can become negative if our model is wrong."
   ]
  },
  {
   "cell_type": "code",
   "execution_count": 69,
   "id": "170caa0b",
   "metadata": {},
   "outputs": [
    {
     "data": {
      "text/plain": [
       "'R2 Score value: 0.5789'"
      ]
     },
     "execution_count": 69,
     "metadata": {},
     "output_type": "execute_result"
    }
   ],
   "source": [
    "# Calculate and print r2_score\n",
    "\n",
    "from sklearn.metrics import r2_score \n",
    "\n",
    "(\"R2 Score value: {:.4f}\".format(r2_score(y_test, y_pred)))"
   ]
  },
  {
   "cell_type": "markdown",
   "id": "c472112b",
   "metadata": {},
   "source": [
    "### Interpretation and Conclusion\n",
    "\n",
    "The RMSE value has been found to be 11.2273. It means the standard deviation for our prediction is 11.2273. So, sometimes we expect the predictions to be off by more than 11.2273 and other times we expect less than 11.2273. So, the model is not good fit to the data.\n",
    "\n",
    "In business decisions, the benchmark for the R2 score value is 0.7. It means if R2 score value >= 0.7, then the model is good enough to deploy on unseen data whereas if R2 score value < 0.7, then the model is not good enough to deploy. Our R2 score value has been found to be .5789. It means that this model explains 57.89 % of the variance in our dependent variable. So, the R2 score value confirms that the model is not good enough to deploy because it does not provide good fit to the data."
   ]
  },
  {
   "cell_type": "code",
   "execution_count": 70,
   "id": "0e5c237a",
   "metadata": {},
   "outputs": [
    {
     "data": {
      "image/png": "[encoded data removed]",
      "text/plain": [
       "<Figure size 640x480 with 1 Axes>"
      ]
     },
     "metadata": {},
     "output_type": "display_data"
    }
   ],
   "source": [
    "# Plot the Regression Line\n",
    "\n",
    "plt.scatter(X, y, color='blue', label='Scatter Plot')\n",
    "plt.plot(X_test, y_pred, color='black', linewidth=3, label='Regression Line')\n",
    "plt.title('Relationshoip between Sales and Advertising')\n",
    "plt.xlabel('Sales')\n",
    "plt.ylabel('Advertising')\n",
    "plt.legend(loc=4)\n",
    "plt.show()\n"
   ]
  },
  {
   "cell_type": "markdown",
   "id": "d43b3015",
   "metadata": {},
   "source": [
    "### Residual analysis\n",
    "\n",
    "A linear regression model may not represent the data appropriately. The model may be a poor fit to the data. So, we should validate our model by defining and examining residual plots.\n",
    "\n",
    "The difference between the observed value of the dependent variable (y) and the predicted value (ŷi) is called the residual and is denoted by e. The scatter-plot of these residuals is called residual plot.\n",
    "\n",
    "If the data points in a residual plot are randomly dispersed around horizontal axis and an approximate zero residual mean, a linear regression model may be appropriate for the data. Otherwise a non-linear model may be more appropriate.\n",
    "\n",
    "If we take a look at the generated ‘Residual errors’ plot, we can clearly see that the train data plot pattern is non-random. Same is the case with the test data plot pattern. So, it suggests a better-fit for a non-linear model."
   ]
  },
  {
   "cell_type": "code",
   "execution_count": 73,
   "id": "6d0f566b",
   "metadata": {},
   "outputs": [
    {
     "data": {
      "image/png": "[encoded data removed]",
      "text/plain": [
       "<Figure size 640x480 with 1 Axes>"
      ]
     },
     "metadata": {},
     "output_type": "display_data"
    }
   ],
   "source": [
    "# Plotting residual errors\n",
    "\n",
    "plt.scatter(lm.predict(X_train), lm.predict(X_train) - y_train, color = 'red', label = 'Train data')\n",
    "plt.scatter(lm.predict(X_test), lm.predict(X_test) - y_test, color = 'blue', label = 'Test data')\n",
    "plt.hlines(xmin = 0, xmax = 50, y = 0, linewidth = 3)\n",
    "plt.title('Residual errors')\n",
    "plt.legend(loc = 4)\n",
    "plt.show()\n"
   ]
  },
  {
   "cell_type": "markdown",
   "id": "d9bc2a12",
   "metadata": {},
   "source": [
    "### Checking for Overfitting and Underfitting\n",
    "\n",
    "I calculate training set score as 0.2861. Similarly, I calculate test set score as 0.5789. The training set score is very poor. So, the model does not learn the relationships appropriately from the training data. Thus, the model performs poorly on the training data. It is a clear sign of Underfitting. Hence, I validated my finding that the linear regression model does not provide good fit to the data.\n",
    "\n",
    "Underfitting means our model performs poorly on the training data. It means the model does not capture the relationships between the training data. This problem can be improved by increasing model complexity. We should use more powerful models like Polynomial regression to increase model complexity."
   ]
  },
  {
   "cell_type": "code",
   "execution_count": 75,
   "id": "0019bb84",
   "metadata": {},
   "outputs": [
    {
     "data": {
      "text/plain": [
       "'Training set score: 0.2861'"
      ]
     },
     "execution_count": 75,
     "metadata": {},
     "output_type": "execute_result"
    }
   ],
   "source": [
    "# Checking for Overfitting or Underfitting the data\n",
    "\n",
    "(\"Training set score: {:.4f}\".format(lm.score(X_train,y_train)))"
   ]
  },
  {
   "cell_type": "code",
   "execution_count": 76,
   "id": "11deae7b",
   "metadata": {},
   "outputs": [
    {
     "data": {
      "text/plain": [
       "'Test set score: 0.5789'"
      ]
     },
     "execution_count": 76,
     "metadata": {},
     "output_type": "execute_result"
    }
   ],
   "source": [
    "(\"Test set score: {:.4f}\".format(lm.score(X_test,y_test)))"
   ]
  },
  {
   "cell_type": "markdown",
   "id": "5849b4a6",
   "metadata": {},
   "source": [
    "Training set score: 0.2861\n",
    "Test set score: 0.5789"
   ]
  }
 ],
 "metadata": {
  "kernelspec": {
   "display_name": "Python 3 (ipykernel)",
   "language": "python",
   "name": "python3"
  },
  "language_info": {
   "codemirror_mode": {
    "name": "ipython",
    "version": 3
   },
   "file_extension": ".py",
   "mimetype": "text/x-python",
   "name": "python",
   "nbconvert_exporter": "python",
   "pygments_lexer": "ipython3",
   "version": "3.11.5"
  }
 },
 "nbformat": 4,
 "nbformat_minor": 5
}
